{
 "cells": [
  {
   "cell_type": "markdown",
   "metadata": {},
   "source": [
    "# ccdproc-06:   Flatfielding\n",
    "\n",
    "## Overview\n",
    "1. Using master FLAT to correct from spatial variation of sensitivity all the images"
   ]
  },
  {
   "cell_type": "markdown",
   "metadata": {},
   "source": [
    "<pre>\n",
    "Máster en Astrofísica UCM  -- Técnicas Experimentales en Astrofísica  \n",
    "Jaime Zamorano and Nicolás Cardiel\n",
    "\n",
    "This notebook has reproduced parts of the the astropy ccdproc docs: \n",
    "https://ccdproc.readthedocs.io/en/latest/reduction_toolbox.html#subtract-bias-and-dark\n",
    "\n",
    "Version 1.0 2021/01/16  \n",
    "</pre>"
   ]
  },
  {
   "cell_type": "markdown",
   "metadata": {},
   "source": [
    "Note that the ``astropy`` package should be installed. In this sense, have a look to the\n",
    "astropy installation description: https://docs.astropy.org/en/stable/install.html."
   ]
  },
  {
   "cell_type": "code",
   "execution_count": 1,
   "metadata": {},
   "outputs": [
    {
     "name": "stderr",
     "output_type": "stream",
     "text": [
      "WARNING: AstropyDeprecationWarning: block_reduce was moved to the astropy.nddata.blocks module.  Please update your import statement. [astropy.nddata.utils]\n",
      "WARNING: AstropyDeprecationWarning: block_replicate was moved to the astropy.nddata.blocks module.  Please update your import statement. [astropy.nddata.utils]\n"
     ]
    }
   ],
   "source": [
    "from pathlib import Path\n",
    "import datetime\n",
    "\n",
    "import matplotlib.pyplot as plt\n",
    "#import matplotlib.mlab as ml\n",
    "import numpy as np\n",
    "from mpl_toolkits.axes_grid1 import make_axes_locatable\n",
    "\n",
    "from astropy.io import fits\n",
    "from astropy import units as u\n",
    "from astropy.nddata import CCDData\n",
    "\n",
    "import ccdproc"
   ]
  },
  {
   "cell_type": "code",
   "execution_count": 2,
   "metadata": {},
   "outputs": [],
   "source": [
    "plt.style.use('./tea.mplstyle')"
   ]
  },
  {
   "cell_type": "markdown",
   "metadata": {},
   "source": [
    "### Working with images in a directory\n",
    "We will use the files of the first night of observations at NOT (Nordic Optical Telescope) 2008 that can be downloaded from   ftp://astrax.fis.ucm.es/pub/users/jaz/NOT_2008_04_12-14/N1/\n",
    "or \n",
    "http://guaix.fis.ucm.es/~jaz/master_TEA/observaciones_NOT_2008/N1/\n",
    "\n",
    "``directory`` should point to the working directory.  \n"
   ]
  },
  {
   "cell_type": "markdown",
   "metadata": {},
   "source": [
    "At this step we have already created a combination of FLAT frames with the result of a several master FLATs (one for each filter used) that we called flat_N1_49.fits, flat_N1_76.fits and flat_N1_78.fits. This file should be in our working directory that also contents the trimmed images.  "
   ]
  },
  {
   "cell_type": "code",
   "execution_count": 3,
   "metadata": {},
   "outputs": [],
   "source": [
    "from ccdproc import ImageFileCollection\n",
    "from ccdproc.utils.sample_directory import sample_directory_with_files\n",
    "\n",
    "dirname = 'N1'   # change to the path of your own working directory\n",
    "directory = Path(dirname)"
   ]
  },
  {
   "cell_type": "markdown",
   "metadata": {},
   "source": [
    "Let\\'s create a list containing all the FITS files in that directory.  \n",
    "We asume that the images were already trimmed and BIAS corrected and their names begin with 'zt_' (see previous notebooks 'ccdproc_02' and 'ccdproc_03')"
   ]
  },
  {
   "cell_type": "code",
   "execution_count": 4,
   "metadata": {},
   "outputs": [
    {
     "name": "stdout",
     "output_type": "stream",
     "text": [
      "[PosixPath('N1/zt_ALrd120011.fits'), PosixPath('N1/zt_ALrd120012.fits'), PosixPath('N1/zt_ALrd120013.fits'), PosixPath('N1/zt_ALrd120014.fits'), PosixPath('N1/zt_ALrd120015.fits')]\n",
      "[PosixPath('N1/zt_ALrd120102.fits'), PosixPath('N1/zt_ALrd120103.fits'), PosixPath('N1/zt_ALrd120104.fits'), PosixPath('N1/zt_ALrd120105.fits'), PosixPath('N1/zt_ALrd120106.fits')]\n"
     ]
    }
   ],
   "source": [
    "filelist = list(sorted(directory.glob('zt_*.fits')))\n",
    "print(filelist[10:15])    # printing only from 10 to 20\n",
    "print(filelist[100:105])    # printing only from 10 to 20"
   ]
  },
  {
   "cell_type": "markdown",
   "metadata": {},
   "source": [
    "### Reading the master  FLATs files "
   ]
  },
  {
   "cell_type": "code",
   "execution_count": 5,
   "metadata": {},
   "outputs": [
    {
     "name": "stderr",
     "output_type": "stream",
     "text": [
      "WARNING: FITSFixedWarning: RADECSYS= 'FK5 ' \n",
      "the RADECSYS keyword is deprecated, use RADESYSa. [astropy.wcs.wcs]\n"
     ]
    }
   ],
   "source": [
    "master_flat_49 = CCDData.read(directory / 'flat_N1_49.fits')\n",
    "master_flat_76 = CCDData.read(directory / 'flat_N1_76.fits')\n",
    "master_flat_78 = CCDData.read(directory / 'flat_N1_78.fits')"
   ]
  },
  {
   "cell_type": "markdown",
   "metadata": {},
   "source": [
    "## Correcting all files from FLAT"
   ]
  },
  {
   "cell_type": "markdown",
   "metadata": {},
   "source": [
    "### Using ccdproc_correct_flat"
   ]
  },
  {
   "cell_type": "code",
   "execution_count": 6,
   "metadata": {},
   "outputs": [
    {
     "data": {
      "text/plain": [
       "['file', 'OBJECT', 'EXPTIME', 'ALFLTID', 'FAFLTID', 'FBFLTID']"
      ]
     },
     "execution_count": 6,
     "metadata": {},
     "output_type": "execute_result"
    }
   ],
   "source": [
    "keys = ['OBJECT' , 'EXPTIME' , 'ALFLTID' , 'FAFLTID' , 'FBFLTID']\n",
    "ic1 = ImageFileCollection(directory, keywords=keys, glob_include='zt_*.fits') # only keep track of keys\n",
    "ic1.summary.colnames"
   ]
  },
  {
   "cell_type": "code",
   "execution_count": 7,
   "metadata": {},
   "outputs": [
    {
     "name": "stdout",
     "output_type": "stream",
     "text": [
      "       file       \n",
      "------------------\n",
      "zt_ALrd120021.fits\n",
      "zt_ALrd120023.fits\n",
      "zt_ALrd120024.fits\n",
      "zt_ALrd120025.fits\n",
      "zt_ALrd120026.fits\n",
      "zt_ALrd120027.fits\n",
      "zt_ALrd120028.fits\n",
      "zt_ALrd120029.fits\n",
      "zt_ALrd120030.fits\n",
      "zt_ALrd120031.fits\n",
      "               ...\n",
      "zt_ALrd120087.fits\n",
      "zt_ALrd120098.fits\n",
      "zt_ALrd120099.fits\n",
      "zt_ALrd120100.fits\n",
      "zt_ALrd120113.fits\n",
      "zt_ALrd120114.fits\n",
      "zt_ALrd120115.fits\n",
      "zt_ALrd120119.fits\n",
      "zt_ALrd120120.fits\n",
      "zt_ALrd120121.fits\n",
      "zt_ALrd120122.fits\n",
      "Length = 35 rows\n"
     ]
    }
   ],
   "source": [
    "matches = (ic1.summary['FBFLTID'] == 78)\n",
    "sci_list_78 = ic1.summary['file'][matches]\n",
    "print(sci_list_78)"
   ]
  },
  {
   "cell_type": "code",
   "execution_count": 9,
   "metadata": {},
   "outputs": [
    {
     "name": "stderr",
     "output_type": "stream",
     "text": [
      "WARNING: FITSFixedWarning: RADECSYS= 'FK5 ' \n",
      "the RADECSYS keyword is deprecated, use RADESYSa. [astropy.wcs.wcs]\n",
      "WARNING:astropy:FITSFixedWarning: RADECSYS= 'FK5 ' \n",
      "the RADECSYS keyword is deprecated, use RADESYSa.\n",
      "WARNING: FITSFixedWarning: 'obsfix' made the change 'Set OBSGEO-L to   -17.885083 from OBSGEO-[XYZ].\n",
      "Set OBSGEO-B to    28.757278 from OBSGEO-[XYZ].\n",
      "Set OBSGEO-H to     2378.994 from OBSGEO-[XYZ]'. [astropy.wcs.wcs]\n",
      "WARNING:astropy:FITSFixedWarning: 'obsfix' made the change 'Set OBSGEO-L to   -17.885083 from OBSGEO-[XYZ].\n",
      "Set OBSGEO-B to    28.757278 from OBSGEO-[XYZ].\n",
      "Set OBSGEO-H to     2378.994 from OBSGEO-[XYZ]'.\n"
     ]
    }
   ],
   "source": [
    "sci_images_78 = []\n",
    "for file in sci_list_78:\n",
    "    sci_images_78.append(CCDData.read(directory / file)) "
   ]
  },
  {
   "cell_type": "code",
   "execution_count": 10,
   "metadata": {},
   "outputs": [
    {
     "name": "stdout",
     "output_type": "stream",
     "text": [
      "Filename          Object        exp Mean std min  max\n",
      "zt_ALrd120021.fits Dome Flat NB#78 10.0 6753 2509 -8.5 16666.0\n",
      "zt_ALrd120023.fits Dome Flat NB#78 30.0 20303 7538 11.5 29560.5\n",
      "zt_ALrd120024.fits Dome Flat NB#78 30.0 20363 7560 11.5 29627.0\n",
      "zt_ALrd120025.fits Dome Flat NB#78 30.0 20356 7557 21.5 29766.0\n",
      "zt_ALrd120026.fits Dome Flat NB#78 30.0 20313 7541 20.5 29711.0\n",
      "zt_ALrd120027.fits Dome Flat NB#78 30.0 20242 7514 16.5 33439.5\n",
      "zt_ALrd120028.fits Dome Flat NB#78 30.0 20229 7509 16.5 41590.0\n",
      "zt_ALrd120029.fits Dome Flat NB#78 30.0 20227 7509 27.5 30235.5\n",
      "zt_ALrd120030.fits Dome Flat NB#78 30.0 20333 7548 16.5 37827.5\n",
      "zt_ALrd120031.fits Dome Flat NB#78 30.0 20320 7543 12.5 29711.5\n",
      "zt_ALrd120032.fits Dome Flat NB#78 30.0 20320 7543 16.5 31909.0\n",
      "zt_ALrd120044.fits Sky Flat evening 0.1 2693 962 -29.0 6723.0\n",
      "zt_ALrd120045.fits Sky Flat evening 1.199 8912 3405 13.5 65182.0\n",
      "zt_ALrd120046.fits Sky Flat evening 3.5 20878 7435 32.5 34683.5\n",
      "zt_ALrd120047.fits Sky Flat evening 5.0 22790 8114 27.5 32932.0\n",
      "zt_ALrd120048.fits Sky Flat evening 7.5 24451 8705 46.5 35316.0\n",
      "zt_ALrd120049.fits Sky Flat evening 11.0 23964 8531 33.5 39714.0\n",
      "zt_ALrd120050.fits Sky Flat evening 17.0 23630 8412 34.5 34251.5\n",
      "zt_ALrd120067.fits HZ44 focusing 30.0 11 11 -44.5 9684.5\n",
      "zt_ALrd120068.fits HZ44 focusing 30.0 11 12 -45.0 7712.5\n",
      "zt_ALrd120073.fits HZ44 focusing 20.0 9 8 -37.0 3707.5\n",
      "zt_ALrd120074.fits HZ44 focusing 20.0 9 8 -40.0 3870.0\n",
      "zt_ALrd120079.fits HZ44 #79 50.0 10 26 -43.5 9088.5\n",
      "zt_ALrd120083.fits BD+75d325 #78 30.0 12 80 -35.5 44488.0\n",
      "zt_ALrd120087.fits Feige34 #78 40.0 9 27 -47.5 15274.5\n",
      "zt_ALrd120098.fits C3982 #78 3x900s 900.0 140 74 -50.0 12259.5\n",
      "zt_ALrd120099.fits C3982 #78 3x900s 900.0 339 131 -47.0 16072.5\n",
      "zt_ALrd120100.fits C3982 #78 3x900s 900.0 204 93 -48.0 19197.0\n",
      "zt_ALrd120113.fits C4941 #78 3x900s 900.0 119 223 -45.0 65179.5\n",
      "zt_ALrd120114.fits C4941 #78 3x900s 900.0 116 186 -45.5 65179.5\n",
      "zt_ALrd120115.fits C4941 #78 3x900s 900.0 77 196 -50.0 65181.5\n",
      "zt_ALrd120119.fits C5363 #78 3x900s 900.0 50 159 -46.0 65179.0\n",
      "zt_ALrd120120.fits C5363 #78 3x900s 900.0 49 157 -47.5 65179.5\n",
      "zt_ALrd120121.fits C5363 #78 3x900s 900.0 52 162 -50.5 65180.0\n",
      "zt_ALrd120122.fits C5363 #78 3x900s 180.0 11 31 -46.5 48333.0\n"
     ]
    }
   ],
   "source": [
    "print('Filename          Object        exp Mean std min  max')\n",
    "exposure = []\n",
    "for img in sci_images_78:\n",
    "    print(img.header['FILENAME'], \n",
    "          img.header['OBJECT'], \n",
    "          img.header['EXPTIME'], \n",
    "          int(np.mean(img)), \n",
    "          int(np.std(img)), \n",
    "          np.min(img), \n",
    "          np.max(img))"
   ]
  },
  {
   "cell_type": "code",
   "execution_count": 16,
   "metadata": {},
   "outputs": [
    {
     "name": "stdout",
     "output_type": "stream",
     "text": [
      "       file       \n",
      "------------------\n",
      "zt_ALrd120079.fits\n",
      "zt_ALrd120083.fits\n",
      "zt_ALrd120087.fits\n",
      "zt_ALrd120098.fits\n",
      "zt_ALrd120099.fits\n",
      "zt_ALrd120100.fits\n",
      "zt_ALrd120113.fits\n",
      "zt_ALrd120114.fits\n",
      "zt_ALrd120115.fits\n",
      "zt_ALrd120119.fits\n",
      "zt_ALrd120120.fits\n",
      "zt_ALrd120121.fits\n",
      "zt_ALrd120122.fits\n"
     ]
    }
   ],
   "source": [
    "print(sci_list_78[22:])   # interesting sci images in filter #78"
   ]
  },
  {
   "cell_type": "code",
   "execution_count": 17,
   "metadata": {},
   "outputs": [
    {
     "name": "stdout",
     "output_type": "stream",
     "text": [
      "       file       \n",
      "------------------\n",
      "zt_ALrd120079.fits\n",
      "zt_ALrd120083.fits\n",
      "zt_ALrd120087.fits\n",
      "zt_ALrd120098.fits\n",
      "zt_ALrd120099.fits\n",
      "zt_ALrd120100.fits\n",
      "zt_ALrd120113.fits\n",
      "zt_ALrd120114.fits\n",
      "zt_ALrd120115.fits\n",
      "zt_ALrd120119.fits\n",
      "zt_ALrd120120.fits\n",
      "zt_ALrd120121.fits\n",
      "zt_ALrd120122.fits\n"
     ]
    }
   ],
   "source": [
    "sci_list_78 = sci_list_78[22:]\n",
    "print(sci_list_78)"
   ]
  },
  {
   "cell_type": "code",
   "execution_count": 21,
   "metadata": {},
   "outputs": [
    {
     "name": "stderr",
     "output_type": "stream",
     "text": [
      "WARNING: FITSFixedWarning: RADECSYS= 'FK5 ' \n",
      "the RADECSYS keyword is deprecated, use RADESYSa. [astropy.wcs.wcs]\n",
      "WARNING:astropy:FITSFixedWarning: RADECSYS= 'FK5 ' \n",
      "the RADECSYS keyword is deprecated, use RADESYSa.\n",
      "WARNING: FITSFixedWarning: 'obsfix' made the change 'Set OBSGEO-L to   -17.885083 from OBSGEO-[XYZ].\n",
      "Set OBSGEO-B to    28.757278 from OBSGEO-[XYZ].\n",
      "Set OBSGEO-H to     2378.994 from OBSGEO-[XYZ]'. [astropy.wcs.wcs]\n",
      "WARNING:astropy:FITSFixedWarning: 'obsfix' made the change 'Set OBSGEO-L to   -17.885083 from OBSGEO-[XYZ].\n",
      "Set OBSGEO-B to    28.757278 from OBSGEO-[XYZ].\n",
      "Set OBSGEO-H to     2378.994 from OBSGEO-[XYZ]'.\n",
      "WARNING: FITSFixedWarning: RADECSYS= 'FK5 ' \n",
      "the RADECSYS keyword is deprecated, use RADESYSa. [astropy.wcs.wcs]\n",
      "WARNING:astropy:FITSFixedWarning: RADECSYS= 'FK5 ' \n",
      "the RADECSYS keyword is deprecated, use RADESYSa.\n",
      "WARNING: FITSFixedWarning: 'obsfix' made the change 'Set OBSGEO-L to   -17.885083 from OBSGEO-[XYZ].\n",
      "Set OBSGEO-B to    28.757278 from OBSGEO-[XYZ].\n",
      "Set OBSGEO-H to     2378.994 from OBSGEO-[XYZ]'. [astropy.wcs.wcs]\n",
      "WARNING:astropy:FITSFixedWarning: 'obsfix' made the change 'Set OBSGEO-L to   -17.885083 from OBSGEO-[XYZ].\n",
      "Set OBSGEO-B to    28.757278 from OBSGEO-[XYZ].\n",
      "Set OBSGEO-H to     2378.994 from OBSGEO-[XYZ]'.\n"
     ]
    },
    {
     "name": "stdout",
     "output_type": "stream",
     "text": [
      "writting  fzt_ALrd120079.fits  in N1\n"
     ]
    },
    {
     "name": "stderr",
     "output_type": "stream",
     "text": [
      "WARNING: FITSFixedWarning: RADECSYS= 'FK5 ' \n",
      "the RADECSYS keyword is deprecated, use RADESYSa. [astropy.wcs.wcs]\n",
      "WARNING:astropy:FITSFixedWarning: RADECSYS= 'FK5 ' \n",
      "the RADECSYS keyword is deprecated, use RADESYSa.\n",
      "WARNING: FITSFixedWarning: 'obsfix' made the change 'Set OBSGEO-L to   -17.885083 from OBSGEO-[XYZ].\n",
      "Set OBSGEO-B to    28.757278 from OBSGEO-[XYZ].\n",
      "Set OBSGEO-H to     2378.994 from OBSGEO-[XYZ]'. [astropy.wcs.wcs]\n",
      "WARNING:astropy:FITSFixedWarning: 'obsfix' made the change 'Set OBSGEO-L to   -17.885083 from OBSGEO-[XYZ].\n",
      "Set OBSGEO-B to    28.757278 from OBSGEO-[XYZ].\n",
      "Set OBSGEO-H to     2378.994 from OBSGEO-[XYZ]'.\n"
     ]
    },
    {
     "name": "stdout",
     "output_type": "stream",
     "text": [
      "writting  fzt_ALrd120083.fits  in N1\n"
     ]
    },
    {
     "name": "stderr",
     "output_type": "stream",
     "text": [
      "WARNING: FITSFixedWarning: RADECSYS= 'FK5 ' \n",
      "the RADECSYS keyword is deprecated, use RADESYSa. [astropy.wcs.wcs]\n",
      "WARNING:astropy:FITSFixedWarning: RADECSYS= 'FK5 ' \n",
      "the RADECSYS keyword is deprecated, use RADESYSa.\n",
      "WARNING: FITSFixedWarning: 'obsfix' made the change 'Set OBSGEO-L to   -17.885083 from OBSGEO-[XYZ].\n",
      "Set OBSGEO-B to    28.757278 from OBSGEO-[XYZ].\n",
      "Set OBSGEO-H to     2378.994 from OBSGEO-[XYZ]'. [astropy.wcs.wcs]\n",
      "WARNING:astropy:FITSFixedWarning: 'obsfix' made the change 'Set OBSGEO-L to   -17.885083 from OBSGEO-[XYZ].\n",
      "Set OBSGEO-B to    28.757278 from OBSGEO-[XYZ].\n",
      "Set OBSGEO-H to     2378.994 from OBSGEO-[XYZ]'.\n"
     ]
    },
    {
     "name": "stdout",
     "output_type": "stream",
     "text": [
      "writting  fzt_ALrd120087.fits  in N1\n"
     ]
    },
    {
     "name": "stderr",
     "output_type": "stream",
     "text": [
      "WARNING: FITSFixedWarning: RADECSYS= 'FK5 ' \n",
      "the RADECSYS keyword is deprecated, use RADESYSa. [astropy.wcs.wcs]\n",
      "WARNING:astropy:FITSFixedWarning: RADECSYS= 'FK5 ' \n",
      "the RADECSYS keyword is deprecated, use RADESYSa.\n",
      "WARNING: FITSFixedWarning: 'obsfix' made the change 'Set OBSGEO-L to   -17.885083 from OBSGEO-[XYZ].\n",
      "Set OBSGEO-B to    28.757278 from OBSGEO-[XYZ].\n",
      "Set OBSGEO-H to     2378.994 from OBSGEO-[XYZ]'. [astropy.wcs.wcs]\n",
      "WARNING:astropy:FITSFixedWarning: 'obsfix' made the change 'Set OBSGEO-L to   -17.885083 from OBSGEO-[XYZ].\n",
      "Set OBSGEO-B to    28.757278 from OBSGEO-[XYZ].\n",
      "Set OBSGEO-H to     2378.994 from OBSGEO-[XYZ]'.\n"
     ]
    },
    {
     "name": "stdout",
     "output_type": "stream",
     "text": [
      "writting  fzt_ALrd120098.fits  in N1\n"
     ]
    },
    {
     "name": "stderr",
     "output_type": "stream",
     "text": [
      "WARNING: FITSFixedWarning: RADECSYS= 'FK5 ' \n",
      "the RADECSYS keyword is deprecated, use RADESYSa. [astropy.wcs.wcs]\n",
      "WARNING:astropy:FITSFixedWarning: RADECSYS= 'FK5 ' \n",
      "the RADECSYS keyword is deprecated, use RADESYSa.\n",
      "WARNING: FITSFixedWarning: 'obsfix' made the change 'Set OBSGEO-L to   -17.885083 from OBSGEO-[XYZ].\n",
      "Set OBSGEO-B to    28.757278 from OBSGEO-[XYZ].\n",
      "Set OBSGEO-H to     2378.994 from OBSGEO-[XYZ]'. [astropy.wcs.wcs]\n",
      "WARNING:astropy:FITSFixedWarning: 'obsfix' made the change 'Set OBSGEO-L to   -17.885083 from OBSGEO-[XYZ].\n",
      "Set OBSGEO-B to    28.757278 from OBSGEO-[XYZ].\n",
      "Set OBSGEO-H to     2378.994 from OBSGEO-[XYZ]'.\n"
     ]
    },
    {
     "name": "stdout",
     "output_type": "stream",
     "text": [
      "writting  fzt_ALrd120099.fits  in N1\n"
     ]
    },
    {
     "name": "stderr",
     "output_type": "stream",
     "text": [
      "WARNING: FITSFixedWarning: RADECSYS= 'FK5 ' \n",
      "the RADECSYS keyword is deprecated, use RADESYSa. [astropy.wcs.wcs]\n",
      "WARNING:astropy:FITSFixedWarning: RADECSYS= 'FK5 ' \n",
      "the RADECSYS keyword is deprecated, use RADESYSa.\n",
      "WARNING: FITSFixedWarning: 'obsfix' made the change 'Set OBSGEO-L to   -17.885083 from OBSGEO-[XYZ].\n",
      "Set OBSGEO-B to    28.757278 from OBSGEO-[XYZ].\n",
      "Set OBSGEO-H to     2378.994 from OBSGEO-[XYZ]'. [astropy.wcs.wcs]\n",
      "WARNING:astropy:FITSFixedWarning: 'obsfix' made the change 'Set OBSGEO-L to   -17.885083 from OBSGEO-[XYZ].\n",
      "Set OBSGEO-B to    28.757278 from OBSGEO-[XYZ].\n",
      "Set OBSGEO-H to     2378.994 from OBSGEO-[XYZ]'.\n"
     ]
    },
    {
     "name": "stdout",
     "output_type": "stream",
     "text": [
      "writting  fzt_ALrd120100.fits  in N1\n"
     ]
    },
    {
     "name": "stderr",
     "output_type": "stream",
     "text": [
      "WARNING: FITSFixedWarning: RADECSYS= 'FK5 ' \n",
      "the RADECSYS keyword is deprecated, use RADESYSa. [astropy.wcs.wcs]\n",
      "WARNING:astropy:FITSFixedWarning: RADECSYS= 'FK5 ' \n",
      "the RADECSYS keyword is deprecated, use RADESYSa.\n",
      "WARNING: FITSFixedWarning: 'obsfix' made the change 'Set OBSGEO-L to   -17.885083 from OBSGEO-[XYZ].\n",
      "Set OBSGEO-B to    28.757278 from OBSGEO-[XYZ].\n",
      "Set OBSGEO-H to     2378.994 from OBSGEO-[XYZ]'. [astropy.wcs.wcs]\n",
      "WARNING:astropy:FITSFixedWarning: 'obsfix' made the change 'Set OBSGEO-L to   -17.885083 from OBSGEO-[XYZ].\n",
      "Set OBSGEO-B to    28.757278 from OBSGEO-[XYZ].\n",
      "Set OBSGEO-H to     2378.994 from OBSGEO-[XYZ]'.\n"
     ]
    },
    {
     "name": "stdout",
     "output_type": "stream",
     "text": [
      "writting  fzt_ALrd120113.fits  in N1\n"
     ]
    },
    {
     "name": "stderr",
     "output_type": "stream",
     "text": [
      "WARNING: FITSFixedWarning: RADECSYS= 'FK5 ' \n",
      "the RADECSYS keyword is deprecated, use RADESYSa. [astropy.wcs.wcs]\n",
      "WARNING:astropy:FITSFixedWarning: RADECSYS= 'FK5 ' \n",
      "the RADECSYS keyword is deprecated, use RADESYSa.\n",
      "WARNING: FITSFixedWarning: 'obsfix' made the change 'Set OBSGEO-L to   -17.885083 from OBSGEO-[XYZ].\n",
      "Set OBSGEO-B to    28.757278 from OBSGEO-[XYZ].\n",
      "Set OBSGEO-H to     2378.994 from OBSGEO-[XYZ]'. [astropy.wcs.wcs]\n",
      "WARNING:astropy:FITSFixedWarning: 'obsfix' made the change 'Set OBSGEO-L to   -17.885083 from OBSGEO-[XYZ].\n",
      "Set OBSGEO-B to    28.757278 from OBSGEO-[XYZ].\n",
      "Set OBSGEO-H to     2378.994 from OBSGEO-[XYZ]'.\n"
     ]
    },
    {
     "name": "stdout",
     "output_type": "stream",
     "text": [
      "writting  fzt_ALrd120114.fits  in N1\n"
     ]
    },
    {
     "name": "stderr",
     "output_type": "stream",
     "text": [
      "WARNING: FITSFixedWarning: RADECSYS= 'FK5 ' \n",
      "the RADECSYS keyword is deprecated, use RADESYSa. [astropy.wcs.wcs]\n",
      "WARNING:astropy:FITSFixedWarning: RADECSYS= 'FK5 ' \n",
      "the RADECSYS keyword is deprecated, use RADESYSa.\n",
      "WARNING: FITSFixedWarning: 'obsfix' made the change 'Set OBSGEO-L to   -17.885083 from OBSGEO-[XYZ].\n",
      "Set OBSGEO-B to    28.757278 from OBSGEO-[XYZ].\n",
      "Set OBSGEO-H to     2378.994 from OBSGEO-[XYZ]'. [astropy.wcs.wcs]\n",
      "WARNING:astropy:FITSFixedWarning: 'obsfix' made the change 'Set OBSGEO-L to   -17.885083 from OBSGEO-[XYZ].\n",
      "Set OBSGEO-B to    28.757278 from OBSGEO-[XYZ].\n",
      "Set OBSGEO-H to     2378.994 from OBSGEO-[XYZ]'.\n"
     ]
    },
    {
     "name": "stdout",
     "output_type": "stream",
     "text": [
      "writting  fzt_ALrd120115.fits  in N1\n"
     ]
    },
    {
     "name": "stderr",
     "output_type": "stream",
     "text": [
      "WARNING: FITSFixedWarning: RADECSYS= 'FK5 ' \n",
      "the RADECSYS keyword is deprecated, use RADESYSa. [astropy.wcs.wcs]\n",
      "WARNING:astropy:FITSFixedWarning: RADECSYS= 'FK5 ' \n",
      "the RADECSYS keyword is deprecated, use RADESYSa.\n",
      "WARNING: FITSFixedWarning: 'obsfix' made the change 'Set OBSGEO-L to   -17.885083 from OBSGEO-[XYZ].\n",
      "Set OBSGEO-B to    28.757278 from OBSGEO-[XYZ].\n",
      "Set OBSGEO-H to     2378.994 from OBSGEO-[XYZ]'. [astropy.wcs.wcs]\n",
      "WARNING:astropy:FITSFixedWarning: 'obsfix' made the change 'Set OBSGEO-L to   -17.885083 from OBSGEO-[XYZ].\n",
      "Set OBSGEO-B to    28.757278 from OBSGEO-[XYZ].\n",
      "Set OBSGEO-H to     2378.994 from OBSGEO-[XYZ]'.\n"
     ]
    },
    {
     "name": "stdout",
     "output_type": "stream",
     "text": [
      "writting  fzt_ALrd120119.fits  in N1\n"
     ]
    },
    {
     "name": "stderr",
     "output_type": "stream",
     "text": [
      "WARNING: FITSFixedWarning: RADECSYS= 'FK5 ' \n",
      "the RADECSYS keyword is deprecated, use RADESYSa. [astropy.wcs.wcs]\n",
      "WARNING:astropy:FITSFixedWarning: RADECSYS= 'FK5 ' \n",
      "the RADECSYS keyword is deprecated, use RADESYSa.\n",
      "WARNING: FITSFixedWarning: 'obsfix' made the change 'Set OBSGEO-L to   -17.885083 from OBSGEO-[XYZ].\n",
      "Set OBSGEO-B to    28.757278 from OBSGEO-[XYZ].\n",
      "Set OBSGEO-H to     2378.994 from OBSGEO-[XYZ]'. [astropy.wcs.wcs]\n",
      "WARNING:astropy:FITSFixedWarning: 'obsfix' made the change 'Set OBSGEO-L to   -17.885083 from OBSGEO-[XYZ].\n",
      "Set OBSGEO-B to    28.757278 from OBSGEO-[XYZ].\n",
      "Set OBSGEO-H to     2378.994 from OBSGEO-[XYZ]'.\n"
     ]
    },
    {
     "name": "stdout",
     "output_type": "stream",
     "text": [
      "writting  fzt_ALrd120120.fits  in N1\n"
     ]
    },
    {
     "name": "stderr",
     "output_type": "stream",
     "text": [
      "WARNING: FITSFixedWarning: RADECSYS= 'FK5 ' \n",
      "the RADECSYS keyword is deprecated, use RADESYSa. [astropy.wcs.wcs]\n",
      "WARNING:astropy:FITSFixedWarning: RADECSYS= 'FK5 ' \n",
      "the RADECSYS keyword is deprecated, use RADESYSa.\n",
      "WARNING: FITSFixedWarning: 'obsfix' made the change 'Set OBSGEO-L to   -17.885083 from OBSGEO-[XYZ].\n",
      "Set OBSGEO-B to    28.757278 from OBSGEO-[XYZ].\n",
      "Set OBSGEO-H to     2378.994 from OBSGEO-[XYZ]'. [astropy.wcs.wcs]\n",
      "WARNING:astropy:FITSFixedWarning: 'obsfix' made the change 'Set OBSGEO-L to   -17.885083 from OBSGEO-[XYZ].\n",
      "Set OBSGEO-B to    28.757278 from OBSGEO-[XYZ].\n",
      "Set OBSGEO-H to     2378.994 from OBSGEO-[XYZ]'.\n"
     ]
    },
    {
     "name": "stdout",
     "output_type": "stream",
     "text": [
      "writting  fzt_ALrd120121.fits  in N1\n",
      "writting  fzt_ALrd120122.fits  in N1\n"
     ]
    }
   ],
   "source": [
    "for file in sci_list_78:\n",
    "    image = CCDData.read(directory / file)\n",
    "    f_image = ccdproc.flat_correct(image,master_flat_78)\n",
    "    name_of_file = 'f'+ str(image.header['FILENAME'])\n",
    "    f_image.header['FILENAME']  = name_of_file\n",
    "    f_image.header['HISTORY']   = str(datetime.datetime.now())[0:18]+' astropy ccdproc flat_correct '\n",
    "    f_image.header['HISTORY']   = 'using NOT2008/N1/master_flat_78.fits master FLAT' \n",
    "    print(f'writting  {name_of_file}  in {directory}')\n",
    "    f_image.write(directory / name_of_file, overwrite='yes')"
   ]
  },
  {
   "cell_type": "code",
   "execution_count": 22,
   "metadata": {},
   "outputs": [
    {
     "name": "stdout",
     "output_type": "stream",
     "text": [
      "       file       \n",
      "------------------\n",
      "zt_ALrd120011.fits\n",
      "zt_ALrd120012.fits\n",
      "zt_ALrd120013.fits\n",
      "zt_ALrd120014.fits\n",
      "zt_ALrd120015.fits\n",
      "zt_ALrd120016.fits\n",
      "zt_ALrd120017.fits\n",
      "zt_ALrd120018.fits\n",
      "zt_ALrd120019.fits\n",
      "zt_ALrd120020.fits\n",
      "               ...\n",
      "zt_ALrd120104.fits\n",
      "zt_ALrd120105.fits\n",
      "zt_ALrd120106.fits\n",
      "zt_ALrd120110.fits\n",
      "zt_ALrd120111.fits\n",
      "zt_ALrd120112.fits\n",
      "zt_ALrd120116.fits\n",
      "zt_ALrd120117.fits\n",
      "zt_ALrd120118.fits\n",
      "zt_ALrd120122.fits\n",
      "zt_ALrd120123.fits\n",
      "Length = 42 rows\n"
     ]
    }
   ],
   "source": [
    "matches = (ic1.summary['ALFLTID'] == 76)\n",
    "sci_list_76 = ic1.summary['file'][matches]\n",
    "print(sci_list_76)"
   ]
  },
  {
   "cell_type": "code",
   "execution_count": 24,
   "metadata": {},
   "outputs": [
    {
     "name": "stderr",
     "output_type": "stream",
     "text": [
      "WARNING: FITSFixedWarning: RADECSYS= 'FK5 ' \n",
      "the RADECSYS keyword is deprecated, use RADESYSa. [astropy.wcs.wcs]\n",
      "WARNING:astropy:FITSFixedWarning: RADECSYS= 'FK5 ' \n",
      "the RADECSYS keyword is deprecated, use RADESYSa.\n",
      "WARNING: FITSFixedWarning: 'obsfix' made the change 'Set OBSGEO-L to   -17.885083 from OBSGEO-[XYZ].\n",
      "Set OBSGEO-B to    28.757278 from OBSGEO-[XYZ].\n",
      "Set OBSGEO-H to     2378.994 from OBSGEO-[XYZ]'. [astropy.wcs.wcs]\n",
      "WARNING:astropy:FITSFixedWarning: 'obsfix' made the change 'Set OBSGEO-L to   -17.885083 from OBSGEO-[XYZ].\n",
      "Set OBSGEO-B to    28.757278 from OBSGEO-[XYZ].\n",
      "Set OBSGEO-H to     2378.994 from OBSGEO-[XYZ]'.\n"
     ]
    }
   ],
   "source": [
    "sci_images_76 = []\n",
    "for file in sci_list_76:\n",
    "    sci_images_76.append(CCDData.read(directory / file)) "
   ]
  },
  {
   "cell_type": "code",
   "execution_count": 25,
   "metadata": {},
   "outputs": [
    {
     "name": "stdout",
     "output_type": "stream",
     "text": [
      "Filename          Object        exp Mean std min  max\n",
      "0 zt_ALrd120011.fits Dome Flat R 1.0 27142 1428 30.5 31854.0\n",
      "1 zt_ALrd120012.fits Dome Flat R 1.0 27100 1427 49.5 31773.0\n",
      "2 zt_ALrd120013.fits Dome Flat R 1.0 27155 1429 32.5 31698.0\n",
      "3 zt_ALrd120014.fits Dome Flat R 1.0 27223 1433 34.5 31742.5\n",
      "4 zt_ALrd120015.fits Dome Flat R 1.0 27123 1428 38.5 42562.0\n",
      "5 zt_ALrd120016.fits Dome Flat R 1.0 27045 1423 33.5 31798.0\n",
      "6 zt_ALrd120017.fits Dome Flat R 1.0 27142 1429 34.5 31516.5\n",
      "7 zt_ALrd120018.fits Dome Flat R 1.0 27298 1437 33.5 31987.0\n",
      "8 zt_ALrd120019.fits Dome Flat R 1.0 27311 1437 29.5 37468.5\n",
      "9 zt_ALrd120020.fits Dome Flat R 1.0 27486 1447 48.5 39239.5\n",
      "10 zt_ALrd120057.fits Sky Flat evening 2.5 25231 1442 40.5 33976.0\n",
      "11 zt_ALrd120058.fits Sky Flat evening 3.299 24251 1387 28.5 38185.5\n",
      "12 zt_ALrd120059.fits Sky Flat evening 4.9 25907 1485 37.5 30151.5\n",
      "13 zt_ALrd120060.fits Sky Flat evening 7.0 26334 1506 45.5 35667.5\n",
      "14 zt_ALrd120061.fits Sky Flat evening 10.0 26347 1608 56.5 65181.5\n",
      "15 zt_ALrd120062.fits Sky Flat evening 15.0 27059 1688 68.5 65182.0\n",
      "16 zt_ALrd120066.fits HZ44 focusing 10.0 126 71 -27.5 11516.0\n",
      "17 zt_ALrd120075.fits HZ44 focusing 10.0 71 109 -25.5 23456.0\n",
      "18 zt_ALrd120077.fits HZ44 R 5.0 37 81 -21.5 19025.0\n",
      "19 zt_ALrd120078.fits HZ44 R 5.0 38 121 -24.0 39450.5\n",
      "20 zt_ALrd120084.fits BD+75d325 R 1.0 20 126 -31.5 65179.5\n",
      "21 zt_ALrd120085.fits BD+75d325 R 0.299 15 33 -37.0 19700.0\n",
      "22 zt_ALrd120086.fits Feige34 R 1.0 15 24 -46.5 11508.5\n",
      "23 zt_ALrd120089.fits NGC3395 R 3x300s 300.0 1860 440 2.0 65180.0\n",
      "24 zt_ALrd120090.fits NGC3395 R 3x300s 300.0 2069 410 0.5 65178.5\n",
      "25 zt_ALrd120091.fits NGC3395 R 3x300s 300.0 2627 414 2.5 65179.0\n",
      "26 zt_ALrd120095.fits NGC3982 R 3x300s 300.0 2606 393 -8.5 65181.0\n",
      "27 zt_ALrd120096.fits NGC3982 R 3x300s 300.0 1502 381 -19.0 65181.0\n",
      "28 zt_ALrd120097.fits NGC3982 R 3x300s 300.0 1471 399 -23.0 65180.5\n",
      "29 zt_ALrd120102.fits GC4496A R 3x300s 300.0 4792 475 -12.0 65181.5\n",
      "30 zt_ALrd120103.fits GC4496A R 3x300s 300.0 6073 456 11.5 65180.0\n",
      "31 zt_ALrd120104.fits GC4496A R 3x300s 300.0 1433 632 -16.5 65182.0\n",
      "32 zt_ALrd120105.fits GC4496A R 3x300s 300.0 1459 630 -10.0 65182.0\n",
      "33 zt_ALrd120106.fits GC4496A R 3x300s 300.0 2515 567 -4.0 65182.0\n",
      "34 zt_ALrd120110.fits NGC4941 R 3x300s 300.0 1750 1003 -16.5 65182.5\n",
      "35 zt_ALrd120111.fits NGC4941 R 3x300s 300.0 1362 1088 -18.0 65182.0\n",
      "36 zt_ALrd120112.fits NGC4941 R 3x300s 300.0 1381 1069 -20.0 65182.0\n",
      "37 zt_ALrd120116.fits NGC5363 R 3x300s 300.0 1002 893 -21.0 65182.0\n",
      "38 zt_ALrd120117.fits NGC5363 R 3x300s 300.0 954 887 -23.0 65181.0\n",
      "39 zt_ALrd120118.fits NGC5363 R 3x300s 300.0 928 903 -19.0 65181.0\n",
      "40 zt_ALrd120122.fits C5363 #78 3x900s 180.0 11 31 -46.5 48333.0\n",
      "41 zt_ALrd120123.fits C5363 #78 3x900s 180.0 1452 577 -14.5 65182.0\n"
     ]
    }
   ],
   "source": [
    "print('Filename          Object        exp Mean std min  max')\n",
    "exposure = []\n",
    "for i in range(len(sci_list_76)):\n",
    "    print(i,sci_images_76[i].header['FILENAME'], \n",
    "          sci_images_76[i].header['OBJECT'], \n",
    "          sci_images_76[i].header['EXPTIME'], \n",
    "          int(np.mean(sci_images_76[i])), \n",
    "          int(np.std(sci_images_76[i])), \n",
    "          np.min(sci_images_76[i]), \n",
    "          np.max(sci_images_76[i]))"
   ]
  },
  {
   "cell_type": "code",
   "execution_count": 27,
   "metadata": {},
   "outputs": [
    {
     "name": "stdout",
     "output_type": "stream",
     "text": [
      "       file       \n",
      "------------------\n",
      "zt_ALrd120077.fits\n",
      "zt_ALrd120078.fits\n",
      "zt_ALrd120084.fits\n",
      "zt_ALrd120085.fits\n",
      "zt_ALrd120086.fits\n",
      "zt_ALrd120089.fits\n",
      "zt_ALrd120090.fits\n",
      "zt_ALrd120091.fits\n",
      "zt_ALrd120095.fits\n",
      "zt_ALrd120096.fits\n",
      "               ...\n",
      "zt_ALrd120104.fits\n",
      "zt_ALrd120105.fits\n",
      "zt_ALrd120106.fits\n",
      "zt_ALrd120110.fits\n",
      "zt_ALrd120111.fits\n",
      "zt_ALrd120112.fits\n",
      "zt_ALrd120116.fits\n",
      "zt_ALrd120117.fits\n",
      "zt_ALrd120118.fits\n",
      "zt_ALrd120122.fits\n",
      "zt_ALrd120123.fits\n",
      "Length = 24 rows\n"
     ]
    }
   ],
   "source": [
    "print(sci_list_76[18:42])   # interesting sci images in filter #76"
   ]
  },
  {
   "cell_type": "code",
   "execution_count": 28,
   "metadata": {},
   "outputs": [
    {
     "name": "stdout",
     "output_type": "stream",
     "text": [
      "       file       \n",
      "------------------\n",
      "zt_ALrd120077.fits\n",
      "zt_ALrd120078.fits\n",
      "zt_ALrd120084.fits\n",
      "zt_ALrd120085.fits\n",
      "zt_ALrd120086.fits\n",
      "zt_ALrd120089.fits\n",
      "zt_ALrd120090.fits\n",
      "zt_ALrd120091.fits\n",
      "zt_ALrd120095.fits\n",
      "zt_ALrd120096.fits\n",
      "               ...\n",
      "zt_ALrd120104.fits\n",
      "zt_ALrd120105.fits\n",
      "zt_ALrd120106.fits\n",
      "zt_ALrd120110.fits\n",
      "zt_ALrd120111.fits\n",
      "zt_ALrd120112.fits\n",
      "zt_ALrd120116.fits\n",
      "zt_ALrd120117.fits\n",
      "zt_ALrd120118.fits\n",
      "zt_ALrd120122.fits\n",
      "zt_ALrd120123.fits\n",
      "Length = 24 rows\n"
     ]
    }
   ],
   "source": [
    "sci_list_76 = sci_list_76[18:42]\n",
    "print(sci_list_76)"
   ]
  },
  {
   "cell_type": "code",
   "execution_count": 30,
   "metadata": {
    "scrolled": false
   },
   "outputs": [
    {
     "name": "stderr",
     "output_type": "stream",
     "text": [
      "WARNING: FITSFixedWarning: RADECSYS= 'FK5 ' \n",
      "the RADECSYS keyword is deprecated, use RADESYSa. [astropy.wcs.wcs]\n",
      "WARNING:astropy:FITSFixedWarning: RADECSYS= 'FK5 ' \n",
      "the RADECSYS keyword is deprecated, use RADESYSa.\n",
      "WARNING: FITSFixedWarning: 'obsfix' made the change 'Set OBSGEO-L to   -17.885083 from OBSGEO-[XYZ].\n",
      "Set OBSGEO-B to    28.757278 from OBSGEO-[XYZ].\n",
      "Set OBSGEO-H to     2378.994 from OBSGEO-[XYZ]'. [astropy.wcs.wcs]\n",
      "WARNING:astropy:FITSFixedWarning: 'obsfix' made the change 'Set OBSGEO-L to   -17.885083 from OBSGEO-[XYZ].\n",
      "Set OBSGEO-B to    28.757278 from OBSGEO-[XYZ].\n",
      "Set OBSGEO-H to     2378.994 from OBSGEO-[XYZ]'.\n",
      "WARNING: FITSFixedWarning: RADECSYS= 'FK5 ' \n",
      "the RADECSYS keyword is deprecated, use RADESYSa. [astropy.wcs.wcs]\n",
      "WARNING:astropy:FITSFixedWarning: RADECSYS= 'FK5 ' \n",
      "the RADECSYS keyword is deprecated, use RADESYSa.\n",
      "WARNING: FITSFixedWarning: 'obsfix' made the change 'Set OBSGEO-L to   -17.885083 from OBSGEO-[XYZ].\n",
      "Set OBSGEO-B to    28.757278 from OBSGEO-[XYZ].\n",
      "Set OBSGEO-H to     2378.994 from OBSGEO-[XYZ]'. [astropy.wcs.wcs]\n",
      "WARNING:astropy:FITSFixedWarning: 'obsfix' made the change 'Set OBSGEO-L to   -17.885083 from OBSGEO-[XYZ].\n",
      "Set OBSGEO-B to    28.757278 from OBSGEO-[XYZ].\n",
      "Set OBSGEO-H to     2378.994 from OBSGEO-[XYZ]'.\n"
     ]
    },
    {
     "name": "stdout",
     "output_type": "stream",
     "text": [
      "writting fzt_ALrd120077.fits in N1\n"
     ]
    },
    {
     "name": "stderr",
     "output_type": "stream",
     "text": [
      "WARNING: FITSFixedWarning: RADECSYS= 'FK5 ' \n",
      "the RADECSYS keyword is deprecated, use RADESYSa. [astropy.wcs.wcs]\n",
      "WARNING:astropy:FITSFixedWarning: RADECSYS= 'FK5 ' \n",
      "the RADECSYS keyword is deprecated, use RADESYSa.\n",
      "WARNING: FITSFixedWarning: 'obsfix' made the change 'Set OBSGEO-L to   -17.885083 from OBSGEO-[XYZ].\n",
      "Set OBSGEO-B to    28.757278 from OBSGEO-[XYZ].\n",
      "Set OBSGEO-H to     2378.994 from OBSGEO-[XYZ]'. [astropy.wcs.wcs]\n",
      "WARNING:astropy:FITSFixedWarning: 'obsfix' made the change 'Set OBSGEO-L to   -17.885083 from OBSGEO-[XYZ].\n",
      "Set OBSGEO-B to    28.757278 from OBSGEO-[XYZ].\n",
      "Set OBSGEO-H to     2378.994 from OBSGEO-[XYZ]'.\n"
     ]
    },
    {
     "name": "stdout",
     "output_type": "stream",
     "text": [
      "writting fzt_ALrd120078.fits in N1\n"
     ]
    },
    {
     "name": "stderr",
     "output_type": "stream",
     "text": [
      "WARNING: FITSFixedWarning: RADECSYS= 'FK5 ' \n",
      "the RADECSYS keyword is deprecated, use RADESYSa. [astropy.wcs.wcs]\n",
      "WARNING:astropy:FITSFixedWarning: RADECSYS= 'FK5 ' \n",
      "the RADECSYS keyword is deprecated, use RADESYSa.\n",
      "WARNING: FITSFixedWarning: 'obsfix' made the change 'Set OBSGEO-L to   -17.885083 from OBSGEO-[XYZ].\n",
      "Set OBSGEO-B to    28.757278 from OBSGEO-[XYZ].\n",
      "Set OBSGEO-H to     2378.994 from OBSGEO-[XYZ]'. [astropy.wcs.wcs]\n",
      "WARNING:astropy:FITSFixedWarning: 'obsfix' made the change 'Set OBSGEO-L to   -17.885083 from OBSGEO-[XYZ].\n",
      "Set OBSGEO-B to    28.757278 from OBSGEO-[XYZ].\n",
      "Set OBSGEO-H to     2378.994 from OBSGEO-[XYZ]'.\n"
     ]
    },
    {
     "name": "stdout",
     "output_type": "stream",
     "text": [
      "writting fzt_ALrd120084.fits in N1\n"
     ]
    },
    {
     "name": "stderr",
     "output_type": "stream",
     "text": [
      "WARNING: FITSFixedWarning: RADECSYS= 'FK5 ' \n",
      "the RADECSYS keyword is deprecated, use RADESYSa. [astropy.wcs.wcs]\n",
      "WARNING:astropy:FITSFixedWarning: RADECSYS= 'FK5 ' \n",
      "the RADECSYS keyword is deprecated, use RADESYSa.\n",
      "WARNING: FITSFixedWarning: 'obsfix' made the change 'Set OBSGEO-L to   -17.885083 from OBSGEO-[XYZ].\n",
      "Set OBSGEO-B to    28.757278 from OBSGEO-[XYZ].\n",
      "Set OBSGEO-H to     2378.994 from OBSGEO-[XYZ]'. [astropy.wcs.wcs]\n",
      "WARNING:astropy:FITSFixedWarning: 'obsfix' made the change 'Set OBSGEO-L to   -17.885083 from OBSGEO-[XYZ].\n",
      "Set OBSGEO-B to    28.757278 from OBSGEO-[XYZ].\n",
      "Set OBSGEO-H to     2378.994 from OBSGEO-[XYZ]'.\n"
     ]
    },
    {
     "name": "stdout",
     "output_type": "stream",
     "text": [
      "writting fzt_ALrd120085.fits in N1\n"
     ]
    },
    {
     "name": "stderr",
     "output_type": "stream",
     "text": [
      "WARNING: FITSFixedWarning: RADECSYS= 'FK5 ' \n",
      "the RADECSYS keyword is deprecated, use RADESYSa. [astropy.wcs.wcs]\n",
      "WARNING:astropy:FITSFixedWarning: RADECSYS= 'FK5 ' \n",
      "the RADECSYS keyword is deprecated, use RADESYSa.\n",
      "WARNING: FITSFixedWarning: 'obsfix' made the change 'Set OBSGEO-L to   -17.885083 from OBSGEO-[XYZ].\n",
      "Set OBSGEO-B to    28.757278 from OBSGEO-[XYZ].\n",
      "Set OBSGEO-H to     2378.994 from OBSGEO-[XYZ]'. [astropy.wcs.wcs]\n",
      "WARNING:astropy:FITSFixedWarning: 'obsfix' made the change 'Set OBSGEO-L to   -17.885083 from OBSGEO-[XYZ].\n",
      "Set OBSGEO-B to    28.757278 from OBSGEO-[XYZ].\n",
      "Set OBSGEO-H to     2378.994 from OBSGEO-[XYZ]'.\n"
     ]
    },
    {
     "name": "stdout",
     "output_type": "stream",
     "text": [
      "writting fzt_ALrd120086.fits in N1\n"
     ]
    },
    {
     "name": "stderr",
     "output_type": "stream",
     "text": [
      "WARNING: FITSFixedWarning: RADECSYS= 'FK5 ' \n",
      "the RADECSYS keyword is deprecated, use RADESYSa. [astropy.wcs.wcs]\n",
      "WARNING:astropy:FITSFixedWarning: RADECSYS= 'FK5 ' \n",
      "the RADECSYS keyword is deprecated, use RADESYSa.\n",
      "WARNING: FITSFixedWarning: 'obsfix' made the change 'Set OBSGEO-L to   -17.885083 from OBSGEO-[XYZ].\n",
      "Set OBSGEO-B to    28.757278 from OBSGEO-[XYZ].\n",
      "Set OBSGEO-H to     2378.994 from OBSGEO-[XYZ]'. [astropy.wcs.wcs]\n",
      "WARNING:astropy:FITSFixedWarning: 'obsfix' made the change 'Set OBSGEO-L to   -17.885083 from OBSGEO-[XYZ].\n",
      "Set OBSGEO-B to    28.757278 from OBSGEO-[XYZ].\n",
      "Set OBSGEO-H to     2378.994 from OBSGEO-[XYZ]'.\n"
     ]
    },
    {
     "name": "stdout",
     "output_type": "stream",
     "text": [
      "writting fzt_ALrd120089.fits in N1\n"
     ]
    },
    {
     "name": "stderr",
     "output_type": "stream",
     "text": [
      "WARNING: FITSFixedWarning: RADECSYS= 'FK5 ' \n",
      "the RADECSYS keyword is deprecated, use RADESYSa. [astropy.wcs.wcs]\n",
      "WARNING:astropy:FITSFixedWarning: RADECSYS= 'FK5 ' \n",
      "the RADECSYS keyword is deprecated, use RADESYSa.\n",
      "WARNING: FITSFixedWarning: 'obsfix' made the change 'Set OBSGEO-L to   -17.885083 from OBSGEO-[XYZ].\n",
      "Set OBSGEO-B to    28.757278 from OBSGEO-[XYZ].\n",
      "Set OBSGEO-H to     2378.994 from OBSGEO-[XYZ]'. [astropy.wcs.wcs]\n",
      "WARNING:astropy:FITSFixedWarning: 'obsfix' made the change 'Set OBSGEO-L to   -17.885083 from OBSGEO-[XYZ].\n",
      "Set OBSGEO-B to    28.757278 from OBSGEO-[XYZ].\n",
      "Set OBSGEO-H to     2378.994 from OBSGEO-[XYZ]'.\n"
     ]
    },
    {
     "name": "stdout",
     "output_type": "stream",
     "text": [
      "writting fzt_ALrd120090.fits in N1\n"
     ]
    },
    {
     "name": "stderr",
     "output_type": "stream",
     "text": [
      "WARNING: FITSFixedWarning: RADECSYS= 'FK5 ' \n",
      "the RADECSYS keyword is deprecated, use RADESYSa. [astropy.wcs.wcs]\n",
      "WARNING:astropy:FITSFixedWarning: RADECSYS= 'FK5 ' \n",
      "the RADECSYS keyword is deprecated, use RADESYSa.\n",
      "WARNING: FITSFixedWarning: 'obsfix' made the change 'Set OBSGEO-L to   -17.885083 from OBSGEO-[XYZ].\n",
      "Set OBSGEO-B to    28.757278 from OBSGEO-[XYZ].\n",
      "Set OBSGEO-H to     2378.994 from OBSGEO-[XYZ]'. [astropy.wcs.wcs]\n",
      "WARNING:astropy:FITSFixedWarning: 'obsfix' made the change 'Set OBSGEO-L to   -17.885083 from OBSGEO-[XYZ].\n",
      "Set OBSGEO-B to    28.757278 from OBSGEO-[XYZ].\n",
      "Set OBSGEO-H to     2378.994 from OBSGEO-[XYZ]'.\n"
     ]
    },
    {
     "name": "stdout",
     "output_type": "stream",
     "text": [
      "writting fzt_ALrd120091.fits in N1\n"
     ]
    },
    {
     "name": "stderr",
     "output_type": "stream",
     "text": [
      "WARNING: FITSFixedWarning: RADECSYS= 'FK5 ' \n",
      "the RADECSYS keyword is deprecated, use RADESYSa. [astropy.wcs.wcs]\n",
      "WARNING:astropy:FITSFixedWarning: RADECSYS= 'FK5 ' \n",
      "the RADECSYS keyword is deprecated, use RADESYSa.\n",
      "WARNING: FITSFixedWarning: 'obsfix' made the change 'Set OBSGEO-L to   -17.885083 from OBSGEO-[XYZ].\n",
      "Set OBSGEO-B to    28.757278 from OBSGEO-[XYZ].\n",
      "Set OBSGEO-H to     2378.994 from OBSGEO-[XYZ]'. [astropy.wcs.wcs]\n",
      "WARNING:astropy:FITSFixedWarning: 'obsfix' made the change 'Set OBSGEO-L to   -17.885083 from OBSGEO-[XYZ].\n",
      "Set OBSGEO-B to    28.757278 from OBSGEO-[XYZ].\n",
      "Set OBSGEO-H to     2378.994 from OBSGEO-[XYZ]'.\n"
     ]
    },
    {
     "name": "stdout",
     "output_type": "stream",
     "text": [
      "writting fzt_ALrd120095.fits in N1\n"
     ]
    },
    {
     "name": "stderr",
     "output_type": "stream",
     "text": [
      "WARNING: FITSFixedWarning: RADECSYS= 'FK5 ' \n",
      "the RADECSYS keyword is deprecated, use RADESYSa. [astropy.wcs.wcs]\n",
      "WARNING:astropy:FITSFixedWarning: RADECSYS= 'FK5 ' \n",
      "the RADECSYS keyword is deprecated, use RADESYSa.\n",
      "WARNING: FITSFixedWarning: 'obsfix' made the change 'Set OBSGEO-L to   -17.885083 from OBSGEO-[XYZ].\n",
      "Set OBSGEO-B to    28.757278 from OBSGEO-[XYZ].\n",
      "Set OBSGEO-H to     2378.994 from OBSGEO-[XYZ]'. [astropy.wcs.wcs]\n",
      "WARNING:astropy:FITSFixedWarning: 'obsfix' made the change 'Set OBSGEO-L to   -17.885083 from OBSGEO-[XYZ].\n",
      "Set OBSGEO-B to    28.757278 from OBSGEO-[XYZ].\n",
      "Set OBSGEO-H to     2378.994 from OBSGEO-[XYZ]'.\n"
     ]
    },
    {
     "name": "stdout",
     "output_type": "stream",
     "text": [
      "writting fzt_ALrd120096.fits in N1\n"
     ]
    },
    {
     "name": "stderr",
     "output_type": "stream",
     "text": [
      "WARNING: FITSFixedWarning: RADECSYS= 'FK5 ' \n",
      "the RADECSYS keyword is deprecated, use RADESYSa. [astropy.wcs.wcs]\n",
      "WARNING:astropy:FITSFixedWarning: RADECSYS= 'FK5 ' \n",
      "the RADECSYS keyword is deprecated, use RADESYSa.\n",
      "WARNING: FITSFixedWarning: 'obsfix' made the change 'Set OBSGEO-L to   -17.885083 from OBSGEO-[XYZ].\n",
      "Set OBSGEO-B to    28.757278 from OBSGEO-[XYZ].\n",
      "Set OBSGEO-H to     2378.994 from OBSGEO-[XYZ]'. [astropy.wcs.wcs]\n",
      "WARNING:astropy:FITSFixedWarning: 'obsfix' made the change 'Set OBSGEO-L to   -17.885083 from OBSGEO-[XYZ].\n",
      "Set OBSGEO-B to    28.757278 from OBSGEO-[XYZ].\n",
      "Set OBSGEO-H to     2378.994 from OBSGEO-[XYZ]'.\n"
     ]
    },
    {
     "name": "stdout",
     "output_type": "stream",
     "text": [
      "writting fzt_ALrd120097.fits in N1\n",
      "writting fzt_ALrd120102.fits in N1\n"
     ]
    },
    {
     "name": "stderr",
     "output_type": "stream",
     "text": [
      "WARNING: FITSFixedWarning: RADECSYS= 'FK5 ' \n",
      "the RADECSYS keyword is deprecated, use RADESYSa. [astropy.wcs.wcs]\n",
      "WARNING:astropy:FITSFixedWarning: RADECSYS= 'FK5 ' \n",
      "the RADECSYS keyword is deprecated, use RADESYSa.\n",
      "WARNING: FITSFixedWarning: 'obsfix' made the change 'Set OBSGEO-L to   -17.885083 from OBSGEO-[XYZ].\n",
      "Set OBSGEO-B to    28.757278 from OBSGEO-[XYZ].\n",
      "Set OBSGEO-H to     2378.994 from OBSGEO-[XYZ]'. [astropy.wcs.wcs]\n",
      "WARNING:astropy:FITSFixedWarning: 'obsfix' made the change 'Set OBSGEO-L to   -17.885083 from OBSGEO-[XYZ].\n",
      "Set OBSGEO-B to    28.757278 from OBSGEO-[XYZ].\n",
      "Set OBSGEO-H to     2378.994 from OBSGEO-[XYZ]'.\n"
     ]
    },
    {
     "name": "stdout",
     "output_type": "stream",
     "text": [
      "writting fzt_ALrd120103.fits in N1\n"
     ]
    },
    {
     "name": "stderr",
     "output_type": "stream",
     "text": [
      "WARNING: FITSFixedWarning: RADECSYS= 'FK5 ' \n",
      "the RADECSYS keyword is deprecated, use RADESYSa. [astropy.wcs.wcs]\n",
      "WARNING:astropy:FITSFixedWarning: RADECSYS= 'FK5 ' \n",
      "the RADECSYS keyword is deprecated, use RADESYSa.\n",
      "WARNING: FITSFixedWarning: 'obsfix' made the change 'Set OBSGEO-L to   -17.885083 from OBSGEO-[XYZ].\n",
      "Set OBSGEO-B to    28.757278 from OBSGEO-[XYZ].\n",
      "Set OBSGEO-H to     2378.994 from OBSGEO-[XYZ]'. [astropy.wcs.wcs]\n",
      "WARNING:astropy:FITSFixedWarning: 'obsfix' made the change 'Set OBSGEO-L to   -17.885083 from OBSGEO-[XYZ].\n",
      "Set OBSGEO-B to    28.757278 from OBSGEO-[XYZ].\n",
      "Set OBSGEO-H to     2378.994 from OBSGEO-[XYZ]'.\n"
     ]
    },
    {
     "name": "stdout",
     "output_type": "stream",
     "text": [
      "writting fzt_ALrd120104.fits in N1\n"
     ]
    },
    {
     "name": "stderr",
     "output_type": "stream",
     "text": [
      "WARNING: FITSFixedWarning: RADECSYS= 'FK5 ' \n",
      "the RADECSYS keyword is deprecated, use RADESYSa. [astropy.wcs.wcs]\n",
      "WARNING:astropy:FITSFixedWarning: RADECSYS= 'FK5 ' \n",
      "the RADECSYS keyword is deprecated, use RADESYSa.\n",
      "WARNING: FITSFixedWarning: 'obsfix' made the change 'Set OBSGEO-L to   -17.885083 from OBSGEO-[XYZ].\n",
      "Set OBSGEO-B to    28.757278 from OBSGEO-[XYZ].\n",
      "Set OBSGEO-H to     2378.994 from OBSGEO-[XYZ]'. [astropy.wcs.wcs]\n",
      "WARNING:astropy:FITSFixedWarning: 'obsfix' made the change 'Set OBSGEO-L to   -17.885083 from OBSGEO-[XYZ].\n",
      "Set OBSGEO-B to    28.757278 from OBSGEO-[XYZ].\n",
      "Set OBSGEO-H to     2378.994 from OBSGEO-[XYZ]'.\n",
      "WARNING: FITSFixedWarning: RADECSYS= 'FK5 ' \n",
      "the RADECSYS keyword is deprecated, use RADESYSa. [astropy.wcs.wcs]\n",
      "WARNING:astropy:FITSFixedWarning: RADECSYS= 'FK5 ' \n",
      "the RADECSYS keyword is deprecated, use RADESYSa.\n",
      "WARNING: FITSFixedWarning: 'obsfix' made the change 'Set OBSGEO-L to   -17.885083 from OBSGEO-[XYZ].\n",
      "Set OBSGEO-B to    28.757278 from OBSGEO-[XYZ].\n",
      "Set OBSGEO-H to     2378.994 from OBSGEO-[XYZ]'. [astropy.wcs.wcs]\n",
      "WARNING:astropy:FITSFixedWarning: 'obsfix' made the change 'Set OBSGEO-L to   -17.885083 from OBSGEO-[XYZ].\n",
      "Set OBSGEO-B to    28.757278 from OBSGEO-[XYZ].\n",
      "Set OBSGEO-H to     2378.994 from OBSGEO-[XYZ]'.\n"
     ]
    },
    {
     "name": "stdout",
     "output_type": "stream",
     "text": [
      "writting fzt_ALrd120105.fits in N1\n",
      "writting fzt_ALrd120106.fits in N1\n"
     ]
    },
    {
     "name": "stderr",
     "output_type": "stream",
     "text": [
      "WARNING: FITSFixedWarning: RADECSYS= 'FK5 ' \n",
      "the RADECSYS keyword is deprecated, use RADESYSa. [astropy.wcs.wcs]\n",
      "WARNING:astropy:FITSFixedWarning: RADECSYS= 'FK5 ' \n",
      "the RADECSYS keyword is deprecated, use RADESYSa.\n",
      "WARNING: FITSFixedWarning: 'obsfix' made the change 'Set OBSGEO-L to   -17.885083 from OBSGEO-[XYZ].\n",
      "Set OBSGEO-B to    28.757278 from OBSGEO-[XYZ].\n",
      "Set OBSGEO-H to     2378.994 from OBSGEO-[XYZ]'. [astropy.wcs.wcs]\n",
      "WARNING:astropy:FITSFixedWarning: 'obsfix' made the change 'Set OBSGEO-L to   -17.885083 from OBSGEO-[XYZ].\n",
      "Set OBSGEO-B to    28.757278 from OBSGEO-[XYZ].\n",
      "Set OBSGEO-H to     2378.994 from OBSGEO-[XYZ]'.\n"
     ]
    },
    {
     "name": "stdout",
     "output_type": "stream",
     "text": [
      "writting fzt_ALrd120110.fits in N1\n"
     ]
    },
    {
     "name": "stderr",
     "output_type": "stream",
     "text": [
      "WARNING: FITSFixedWarning: RADECSYS= 'FK5 ' \n",
      "the RADECSYS keyword is deprecated, use RADESYSa. [astropy.wcs.wcs]\n",
      "WARNING:astropy:FITSFixedWarning: RADECSYS= 'FK5 ' \n",
      "the RADECSYS keyword is deprecated, use RADESYSa.\n",
      "WARNING: FITSFixedWarning: 'obsfix' made the change 'Set OBSGEO-L to   -17.885083 from OBSGEO-[XYZ].\n",
      "Set OBSGEO-B to    28.757278 from OBSGEO-[XYZ].\n",
      "Set OBSGEO-H to     2378.994 from OBSGEO-[XYZ]'. [astropy.wcs.wcs]\n",
      "WARNING:astropy:FITSFixedWarning: 'obsfix' made the change 'Set OBSGEO-L to   -17.885083 from OBSGEO-[XYZ].\n",
      "Set OBSGEO-B to    28.757278 from OBSGEO-[XYZ].\n",
      "Set OBSGEO-H to     2378.994 from OBSGEO-[XYZ]'.\n",
      "WARNING: FITSFixedWarning: RADECSYS= 'FK5 ' \n",
      "the RADECSYS keyword is deprecated, use RADESYSa. [astropy.wcs.wcs]\n",
      "WARNING:astropy:FITSFixedWarning: RADECSYS= 'FK5 ' \n",
      "the RADECSYS keyword is deprecated, use RADESYSa.\n",
      "WARNING: FITSFixedWarning: 'obsfix' made the change 'Set OBSGEO-L to   -17.885083 from OBSGEO-[XYZ].\n",
      "Set OBSGEO-B to    28.757278 from OBSGEO-[XYZ].\n",
      "Set OBSGEO-H to     2378.994 from OBSGEO-[XYZ]'. [astropy.wcs.wcs]\n",
      "WARNING:astropy:FITSFixedWarning: 'obsfix' made the change 'Set OBSGEO-L to   -17.885083 from OBSGEO-[XYZ].\n",
      "Set OBSGEO-B to    28.757278 from OBSGEO-[XYZ].\n",
      "Set OBSGEO-H to     2378.994 from OBSGEO-[XYZ]'.\n"
     ]
    },
    {
     "name": "stdout",
     "output_type": "stream",
     "text": [
      "writting fzt_ALrd120111.fits in N1\n"
     ]
    },
    {
     "name": "stderr",
     "output_type": "stream",
     "text": [
      "WARNING: FITSFixedWarning: RADECSYS= 'FK5 ' \n",
      "the RADECSYS keyword is deprecated, use RADESYSa. [astropy.wcs.wcs]\n",
      "WARNING:astropy:FITSFixedWarning: RADECSYS= 'FK5 ' \n",
      "the RADECSYS keyword is deprecated, use RADESYSa.\n",
      "WARNING: FITSFixedWarning: 'obsfix' made the change 'Set OBSGEO-L to   -17.885083 from OBSGEO-[XYZ].\n",
      "Set OBSGEO-B to    28.757278 from OBSGEO-[XYZ].\n",
      "Set OBSGEO-H to     2378.994 from OBSGEO-[XYZ]'. [astropy.wcs.wcs]\n",
      "WARNING:astropy:FITSFixedWarning: 'obsfix' made the change 'Set OBSGEO-L to   -17.885083 from OBSGEO-[XYZ].\n",
      "Set OBSGEO-B to    28.757278 from OBSGEO-[XYZ].\n",
      "Set OBSGEO-H to     2378.994 from OBSGEO-[XYZ]'.\n"
     ]
    },
    {
     "name": "stdout",
     "output_type": "stream",
     "text": [
      "writting fzt_ALrd120112.fits in N1\n",
      "writting fzt_ALrd120116.fits in N1\n"
     ]
    },
    {
     "name": "stderr",
     "output_type": "stream",
     "text": [
      "WARNING: FITSFixedWarning: RADECSYS= 'FK5 ' \n",
      "the RADECSYS keyword is deprecated, use RADESYSa. [astropy.wcs.wcs]\n",
      "WARNING:astropy:FITSFixedWarning: RADECSYS= 'FK5 ' \n",
      "the RADECSYS keyword is deprecated, use RADESYSa.\n",
      "WARNING: FITSFixedWarning: 'obsfix' made the change 'Set OBSGEO-L to   -17.885083 from OBSGEO-[XYZ].\n",
      "Set OBSGEO-B to    28.757278 from OBSGEO-[XYZ].\n",
      "Set OBSGEO-H to     2378.994 from OBSGEO-[XYZ]'. [astropy.wcs.wcs]\n",
      "WARNING:astropy:FITSFixedWarning: 'obsfix' made the change 'Set OBSGEO-L to   -17.885083 from OBSGEO-[XYZ].\n",
      "Set OBSGEO-B to    28.757278 from OBSGEO-[XYZ].\n",
      "Set OBSGEO-H to     2378.994 from OBSGEO-[XYZ]'.\n"
     ]
    },
    {
     "name": "stdout",
     "output_type": "stream",
     "text": [
      "writting fzt_ALrd120117.fits in N1\n"
     ]
    },
    {
     "name": "stderr",
     "output_type": "stream",
     "text": [
      "WARNING: FITSFixedWarning: RADECSYS= 'FK5 ' \n",
      "the RADECSYS keyword is deprecated, use RADESYSa. [astropy.wcs.wcs]\n",
      "WARNING:astropy:FITSFixedWarning: RADECSYS= 'FK5 ' \n",
      "the RADECSYS keyword is deprecated, use RADESYSa.\n",
      "WARNING: FITSFixedWarning: 'obsfix' made the change 'Set OBSGEO-L to   -17.885083 from OBSGEO-[XYZ].\n",
      "Set OBSGEO-B to    28.757278 from OBSGEO-[XYZ].\n",
      "Set OBSGEO-H to     2378.994 from OBSGEO-[XYZ]'. [astropy.wcs.wcs]\n",
      "WARNING:astropy:FITSFixedWarning: 'obsfix' made the change 'Set OBSGEO-L to   -17.885083 from OBSGEO-[XYZ].\n",
      "Set OBSGEO-B to    28.757278 from OBSGEO-[XYZ].\n",
      "Set OBSGEO-H to     2378.994 from OBSGEO-[XYZ]'.\n",
      "WARNING: FITSFixedWarning: RADECSYS= 'FK5 ' \n",
      "the RADECSYS keyword is deprecated, use RADESYSa. [astropy.wcs.wcs]\n",
      "WARNING:astropy:FITSFixedWarning: RADECSYS= 'FK5 ' \n",
      "the RADECSYS keyword is deprecated, use RADESYSa.\n",
      "WARNING: FITSFixedWarning: 'obsfix' made the change 'Set OBSGEO-L to   -17.885083 from OBSGEO-[XYZ].\n",
      "Set OBSGEO-B to    28.757278 from OBSGEO-[XYZ].\n",
      "Set OBSGEO-H to     2378.994 from OBSGEO-[XYZ]'. [astropy.wcs.wcs]\n",
      "WARNING:astropy:FITSFixedWarning: 'obsfix' made the change 'Set OBSGEO-L to   -17.885083 from OBSGEO-[XYZ].\n",
      "Set OBSGEO-B to    28.757278 from OBSGEO-[XYZ].\n",
      "Set OBSGEO-H to     2378.994 from OBSGEO-[XYZ]'.\n"
     ]
    },
    {
     "name": "stdout",
     "output_type": "stream",
     "text": [
      "writting fzt_ALrd120118.fits in N1\n",
      "writting fzt_ALrd120122.fits in N1\n"
     ]
    },
    {
     "name": "stderr",
     "output_type": "stream",
     "text": [
      "WARNING: FITSFixedWarning: RADECSYS= 'FK5 ' \n",
      "the RADECSYS keyword is deprecated, use RADESYSa. [astropy.wcs.wcs]\n",
      "WARNING:astropy:FITSFixedWarning: RADECSYS= 'FK5 ' \n",
      "the RADECSYS keyword is deprecated, use RADESYSa.\n",
      "WARNING: FITSFixedWarning: 'obsfix' made the change 'Set OBSGEO-L to   -17.885083 from OBSGEO-[XYZ].\n",
      "Set OBSGEO-B to    28.757278 from OBSGEO-[XYZ].\n",
      "Set OBSGEO-H to     2378.994 from OBSGEO-[XYZ]'. [astropy.wcs.wcs]\n",
      "WARNING:astropy:FITSFixedWarning: 'obsfix' made the change 'Set OBSGEO-L to   -17.885083 from OBSGEO-[XYZ].\n",
      "Set OBSGEO-B to    28.757278 from OBSGEO-[XYZ].\n",
      "Set OBSGEO-H to     2378.994 from OBSGEO-[XYZ]'.\n"
     ]
    },
    {
     "name": "stdout",
     "output_type": "stream",
     "text": [
      "writting fzt_ALrd120123.fits in N1\n"
     ]
    }
   ],
   "source": [
    "for file in sci_list_76:\n",
    "    image = CCDData.read(directory / file)\n",
    "    f_image = ccdproc.flat_correct(image,master_flat_76)\n",
    "    name_of_file = 'f'+ str(image.header['FILENAME'])\n",
    "    f_image.header['FILENAME']  = name_of_file\n",
    "    f_image.header['HISTORY']   = str(datetime.datetime.now())[0:18]+' astropy ccdproc flat_correct '\n",
    "    f_image.header['HISTORY']   = 'using NOT2008/N1/master_flat_76.fits master FLAT' \n",
    "    print(f'writting {name_of_file} in {directory}')\n",
    "    f_image.write(directory / name_of_file, overwrite='yes')"
   ]
  },
  {
   "cell_type": "code",
   "execution_count": 44,
   "metadata": {},
   "outputs": [
    {
     "name": "stdout",
     "output_type": "stream",
     "text": [
      "       file       \n",
      "------------------\n",
      "zt_ALrd120022.fits\n",
      "zt_ALrd120033.fits\n",
      "zt_ALrd120034.fits\n",
      "zt_ALrd120035.fits\n",
      "zt_ALrd120036.fits\n",
      "zt_ALrd120037.fits\n",
      "zt_ALrd120038.fits\n",
      "zt_ALrd120039.fits\n",
      "zt_ALrd120040.fits\n",
      "zt_ALrd120041.fits\n",
      "               ...\n",
      "zt_ALrd120072.fits\n",
      "zt_ALrd120080.fits\n",
      "zt_ALrd120081.fits\n",
      "zt_ALrd120082.fits\n",
      "zt_ALrd120088.fits\n",
      "zt_ALrd120092.fits\n",
      "zt_ALrd120093.fits\n",
      "zt_ALrd120094.fits\n",
      "zt_ALrd120107.fits\n",
      "zt_ALrd120108.fits\n",
      "zt_ALrd120109.fits\n",
      "Length = 32 rows\n"
     ]
    }
   ],
   "source": [
    "matches = (ic1.summary['FBFLTID'] == 49)\n",
    "sci_list_49 = ic1.summary['file'][matches]\n",
    "print(sci_list_49)"
   ]
  },
  {
   "cell_type": "code",
   "execution_count": 45,
   "metadata": {},
   "outputs": [
    {
     "name": "stderr",
     "output_type": "stream",
     "text": [
      "WARNING: FITSFixedWarning: RADECSYS= 'FK5 ' \n",
      "the RADECSYS keyword is deprecated, use RADESYSa. [astropy.wcs.wcs]\n",
      "WARNING:astropy:FITSFixedWarning: RADECSYS= 'FK5 ' \n",
      "the RADECSYS keyword is deprecated, use RADESYSa.\n",
      "WARNING: FITSFixedWarning: 'obsfix' made the change 'Set OBSGEO-L to   -17.885083 from OBSGEO-[XYZ].\n",
      "Set OBSGEO-B to    28.757278 from OBSGEO-[XYZ].\n",
      "Set OBSGEO-H to     2378.994 from OBSGEO-[XYZ]'. [astropy.wcs.wcs]\n",
      "WARNING:astropy:FITSFixedWarning: 'obsfix' made the change 'Set OBSGEO-L to   -17.885083 from OBSGEO-[XYZ].\n",
      "Set OBSGEO-B to    28.757278 from OBSGEO-[XYZ].\n",
      "Set OBSGEO-H to     2378.994 from OBSGEO-[XYZ]'.\n"
     ]
    }
   ],
   "source": [
    "sci_images_49 = []\n",
    "for file in sci_list_49:\n",
    "    sci_images_49.append(CCDData.read(directory / file)) "
   ]
  },
  {
   "cell_type": "code",
   "execution_count": 46,
   "metadata": {},
   "outputs": [
    {
     "name": "stdout",
     "output_type": "stream",
     "text": [
      "Filename          Object        exp Mean std min  max\n",
      "0 zt_ALrd120022.fits Dome Flat NB#49 30.0 27904 13348 28.5 45106.5\n",
      "1 zt_ALrd120033.fits Dome Flat NB#49 20.0 18595 8896 27.5 32448.5\n",
      "2 zt_ALrd120034.fits Dome Flat NB#49 20.0 18572 8885 30.5 29703.0\n",
      "3 zt_ALrd120035.fits Dome Flat NB#49 20.0 18546 8872 18.5 31540.0\n",
      "4 zt_ALrd120036.fits Dome Flat NB#49 20.0 18626 8911 25.5 31379.0\n",
      "5 zt_ALrd120037.fits Dome Flat NB#49 20.0 18628 8912 22.5 37198.0\n",
      "6 zt_ALrd120038.fits Dome Flat NB#49 20.0 18631 8914 11.5 34507.0\n",
      "7 zt_ALrd120039.fits Dome Flat NB#49 20.0 18540 8871 5.0 30516.0\n",
      "8 zt_ALrd120040.fits Dome Flat NB#49 20.0 18525 8863 29.5 29800.5\n",
      "9 zt_ALrd120041.fits Dome Flat NB#49 20.0 18524 8863 27.5 29628.0\n",
      "10 zt_ALrd120042.fits Dome Flat NB#49 20.0 18527 8865 17.5 29785.5\n",
      "11 zt_ALrd120043.fits Dome Flat NB#49 10.0 9613 4177 -2.5 26641.0\n",
      "12 zt_ALrd120051.fits Sky Flat evening 18.0 22792 9472 31.5 37293.5\n",
      "13 zt_ALrd120052.fits Sky Flat evening 27.0 21157 8792 29.5 33728.0\n",
      "14 zt_ALrd120053.fits Sky Flat evening 43.0 19638 8161 26.0 37317.0\n",
      "15 zt_ALrd120054.fits Sky Flat evening 10.0 12007 4971 27.0 19446.0\n",
      "16 zt_ALrd120055.fits Sky Flat evening 22.0 18534 7674 28.5 30571.0\n",
      "17 zt_ALrd120056.fits Sky Flat evening 33.0 18653 7723 24.5 32617.0\n",
      "18 zt_ALrd120069.fits HZ44 focusing 30.0 15 13 -34.5 7242.0\n",
      "19 zt_ALrd120070.fits HZ44 focusing 30.0 15 15 -38.5 9144.0\n",
      "20 zt_ALrd120071.fits HZ44 focusing 30.0 13 15 -39.0 4047.0\n",
      "21 zt_ALrd120072.fits HZ44 focusing 30.0 11 16 -42.0 5063.0\n",
      "22 zt_ALrd120080.fits HZ44 #49 90.0 17 81 -39.5 26258.5\n",
      "23 zt_ALrd120081.fits BD+75d325 #49 90.0 17 233 -40.5 65181.5\n",
      "24 zt_ALrd120082.fits BD+75d325 #49 30.0 11 81 -41.0 29727.0\n",
      "25 zt_ALrd120088.fits Feige34 #49 40.0 8 47 -47.5 28326.0\n",
      "26 zt_ALrd120092.fits C3395 #49 3x900s 900.0 146 152 -51.5 23863.5\n",
      "27 zt_ALrd120093.fits C3395 #49 3x900s 900.0 143 164 -54.0 33992.0\n",
      "28 zt_ALrd120094.fits C3395 #49 3x900s 900.0 158 161 -56.0 30923.0\n",
      "29 zt_ALrd120107.fits 4496A #49 3x900s 900.0 266 147 -39.0 40641.0\n",
      "30 zt_ALrd120108.fits 4496A #49 3x900s 900.0 172 155 -41.0 65178.0\n",
      "31 zt_ALrd120109.fits 4496A #49 3x900s 900.0 213 134 -48.5 41416.5\n"
     ]
    }
   ],
   "source": [
    "print('Filename          Object        exp Mean std min  max')\n",
    "exposure = []\n",
    "for i in range(len(sci_list_49)):\n",
    "    print(i,sci_images_49[i].header['FILENAME'], \n",
    "          sci_images_49[i].header['OBJECT'], \n",
    "          sci_images_49[i].header['EXPTIME'], \n",
    "          int(np.mean(sci_images_49[i])), \n",
    "          int(np.std(sci_images_49[i])), \n",
    "          np.min(sci_images_49[i]), \n",
    "          np.max(sci_images_49[i]))"
   ]
  },
  {
   "cell_type": "code",
   "execution_count": 47,
   "metadata": {},
   "outputs": [
    {
     "name": "stdout",
     "output_type": "stream",
     "text": [
      "       file       \n",
      "------------------\n",
      "zt_ALrd120080.fits\n",
      "zt_ALrd120081.fits\n",
      "zt_ALrd120082.fits\n",
      "zt_ALrd120088.fits\n",
      "zt_ALrd120092.fits\n",
      "zt_ALrd120093.fits\n",
      "zt_ALrd120094.fits\n",
      "zt_ALrd120107.fits\n",
      "zt_ALrd120108.fits\n",
      "zt_ALrd120109.fits\n"
     ]
    }
   ],
   "source": [
    "print(sci_list_49[22:32])   # interesting sci images in filter #76"
   ]
  },
  {
   "cell_type": "code",
   "execution_count": 48,
   "metadata": {},
   "outputs": [
    {
     "name": "stdout",
     "output_type": "stream",
     "text": [
      "       file       \n",
      "------------------\n",
      "zt_ALrd120080.fits\n",
      "zt_ALrd120081.fits\n",
      "zt_ALrd120082.fits\n",
      "zt_ALrd120088.fits\n",
      "zt_ALrd120092.fits\n",
      "zt_ALrd120093.fits\n",
      "zt_ALrd120094.fits\n",
      "zt_ALrd120107.fits\n",
      "zt_ALrd120108.fits\n",
      "zt_ALrd120109.fits\n"
     ]
    }
   ],
   "source": [
    "sci_list_49 = sci_list_49[22:32]\n",
    "print(sci_list_49)"
   ]
  },
  {
   "cell_type": "code",
   "execution_count": 49,
   "metadata": {},
   "outputs": [
    {
     "name": "stderr",
     "output_type": "stream",
     "text": [
      "WARNING: FITSFixedWarning: RADECSYS= 'FK5 ' \n",
      "the RADECSYS keyword is deprecated, use RADESYSa. [astropy.wcs.wcs]\n",
      "WARNING:astropy:FITSFixedWarning: RADECSYS= 'FK5 ' \n",
      "the RADECSYS keyword is deprecated, use RADESYSa.\n",
      "WARNING: FITSFixedWarning: 'obsfix' made the change 'Set OBSGEO-L to   -17.885083 from OBSGEO-[XYZ].\n",
      "Set OBSGEO-B to    28.757278 from OBSGEO-[XYZ].\n",
      "Set OBSGEO-H to     2378.994 from OBSGEO-[XYZ]'. [astropy.wcs.wcs]\n",
      "WARNING:astropy:FITSFixedWarning: 'obsfix' made the change 'Set OBSGEO-L to   -17.885083 from OBSGEO-[XYZ].\n",
      "Set OBSGEO-B to    28.757278 from OBSGEO-[XYZ].\n",
      "Set OBSGEO-H to     2378.994 from OBSGEO-[XYZ]'.\n"
     ]
    },
    {
     "name": "stdout",
     "output_type": "stream",
     "text": [
      "writting name_of_file in directory\n"
     ]
    },
    {
     "name": "stderr",
     "output_type": "stream",
     "text": [
      "WARNING: FITSFixedWarning: RADECSYS= 'FK5 ' \n",
      "the RADECSYS keyword is deprecated, use RADESYSa. [astropy.wcs.wcs]\n",
      "WARNING:astropy:FITSFixedWarning: RADECSYS= 'FK5 ' \n",
      "the RADECSYS keyword is deprecated, use RADESYSa.\n",
      "WARNING: FITSFixedWarning: 'obsfix' made the change 'Set OBSGEO-L to   -17.885083 from OBSGEO-[XYZ].\n",
      "Set OBSGEO-B to    28.757278 from OBSGEO-[XYZ].\n",
      "Set OBSGEO-H to     2378.994 from OBSGEO-[XYZ]'. [astropy.wcs.wcs]\n",
      "WARNING:astropy:FITSFixedWarning: 'obsfix' made the change 'Set OBSGEO-L to   -17.885083 from OBSGEO-[XYZ].\n",
      "Set OBSGEO-B to    28.757278 from OBSGEO-[XYZ].\n",
      "Set OBSGEO-H to     2378.994 from OBSGEO-[XYZ]'.\n"
     ]
    },
    {
     "name": "stdout",
     "output_type": "stream",
     "text": [
      "writting name_of_file in directory\n"
     ]
    },
    {
     "name": "stderr",
     "output_type": "stream",
     "text": [
      "WARNING: FITSFixedWarning: RADECSYS= 'FK5 ' \n",
      "the RADECSYS keyword is deprecated, use RADESYSa. [astropy.wcs.wcs]\n",
      "WARNING:astropy:FITSFixedWarning: RADECSYS= 'FK5 ' \n",
      "the RADECSYS keyword is deprecated, use RADESYSa.\n",
      "WARNING: FITSFixedWarning: 'obsfix' made the change 'Set OBSGEO-L to   -17.885083 from OBSGEO-[XYZ].\n",
      "Set OBSGEO-B to    28.757278 from OBSGEO-[XYZ].\n",
      "Set OBSGEO-H to     2378.994 from OBSGEO-[XYZ]'. [astropy.wcs.wcs]\n",
      "WARNING:astropy:FITSFixedWarning: 'obsfix' made the change 'Set OBSGEO-L to   -17.885083 from OBSGEO-[XYZ].\n",
      "Set OBSGEO-B to    28.757278 from OBSGEO-[XYZ].\n",
      "Set OBSGEO-H to     2378.994 from OBSGEO-[XYZ]'.\n"
     ]
    },
    {
     "name": "stdout",
     "output_type": "stream",
     "text": [
      "writting name_of_file in directory\n"
     ]
    },
    {
     "name": "stderr",
     "output_type": "stream",
     "text": [
      "WARNING: FITSFixedWarning: RADECSYS= 'FK5 ' \n",
      "the RADECSYS keyword is deprecated, use RADESYSa. [astropy.wcs.wcs]\n",
      "WARNING:astropy:FITSFixedWarning: RADECSYS= 'FK5 ' \n",
      "the RADECSYS keyword is deprecated, use RADESYSa.\n",
      "WARNING: FITSFixedWarning: 'obsfix' made the change 'Set OBSGEO-L to   -17.885083 from OBSGEO-[XYZ].\n",
      "Set OBSGEO-B to    28.757278 from OBSGEO-[XYZ].\n",
      "Set OBSGEO-H to     2378.994 from OBSGEO-[XYZ]'. [astropy.wcs.wcs]\n",
      "WARNING:astropy:FITSFixedWarning: 'obsfix' made the change 'Set OBSGEO-L to   -17.885083 from OBSGEO-[XYZ].\n",
      "Set OBSGEO-B to    28.757278 from OBSGEO-[XYZ].\n",
      "Set OBSGEO-H to     2378.994 from OBSGEO-[XYZ]'.\n"
     ]
    },
    {
     "name": "stdout",
     "output_type": "stream",
     "text": [
      "writting name_of_file in directory\n"
     ]
    },
    {
     "name": "stderr",
     "output_type": "stream",
     "text": [
      "WARNING: FITSFixedWarning: RADECSYS= 'FK5 ' \n",
      "the RADECSYS keyword is deprecated, use RADESYSa. [astropy.wcs.wcs]\n",
      "WARNING:astropy:FITSFixedWarning: RADECSYS= 'FK5 ' \n",
      "the RADECSYS keyword is deprecated, use RADESYSa.\n",
      "WARNING: FITSFixedWarning: 'obsfix' made the change 'Set OBSGEO-L to   -17.885083 from OBSGEO-[XYZ].\n",
      "Set OBSGEO-B to    28.757278 from OBSGEO-[XYZ].\n",
      "Set OBSGEO-H to     2378.994 from OBSGEO-[XYZ]'. [astropy.wcs.wcs]\n",
      "WARNING:astropy:FITSFixedWarning: 'obsfix' made the change 'Set OBSGEO-L to   -17.885083 from OBSGEO-[XYZ].\n",
      "Set OBSGEO-B to    28.757278 from OBSGEO-[XYZ].\n",
      "Set OBSGEO-H to     2378.994 from OBSGEO-[XYZ]'.\n"
     ]
    },
    {
     "name": "stdout",
     "output_type": "stream",
     "text": [
      "writting name_of_file in directory\n",
      "writting name_of_file in directory\n"
     ]
    },
    {
     "name": "stderr",
     "output_type": "stream",
     "text": [
      "WARNING: FITSFixedWarning: RADECSYS= 'FK5 ' \n",
      "the RADECSYS keyword is deprecated, use RADESYSa. [astropy.wcs.wcs]\n",
      "WARNING:astropy:FITSFixedWarning: RADECSYS= 'FK5 ' \n",
      "the RADECSYS keyword is deprecated, use RADESYSa.\n",
      "WARNING: FITSFixedWarning: 'obsfix' made the change 'Set OBSGEO-L to   -17.885083 from OBSGEO-[XYZ].\n",
      "Set OBSGEO-B to    28.757278 from OBSGEO-[XYZ].\n",
      "Set OBSGEO-H to     2378.994 from OBSGEO-[XYZ]'. [astropy.wcs.wcs]\n",
      "WARNING:astropy:FITSFixedWarning: 'obsfix' made the change 'Set OBSGEO-L to   -17.885083 from OBSGEO-[XYZ].\n",
      "Set OBSGEO-B to    28.757278 from OBSGEO-[XYZ].\n",
      "Set OBSGEO-H to     2378.994 from OBSGEO-[XYZ]'.\n",
      "WARNING: FITSFixedWarning: RADECSYS= 'FK5 ' \n",
      "the RADECSYS keyword is deprecated, use RADESYSa. [astropy.wcs.wcs]\n",
      "WARNING:astropy:FITSFixedWarning: RADECSYS= 'FK5 ' \n",
      "the RADECSYS keyword is deprecated, use RADESYSa.\n",
      "WARNING: FITSFixedWarning: 'obsfix' made the change 'Set OBSGEO-L to   -17.885083 from OBSGEO-[XYZ].\n",
      "Set OBSGEO-B to    28.757278 from OBSGEO-[XYZ].\n",
      "Set OBSGEO-H to     2378.994 from OBSGEO-[XYZ]'. [astropy.wcs.wcs]\n",
      "WARNING:astropy:FITSFixedWarning: 'obsfix' made the change 'Set OBSGEO-L to   -17.885083 from OBSGEO-[XYZ].\n",
      "Set OBSGEO-B to    28.757278 from OBSGEO-[XYZ].\n",
      "Set OBSGEO-H to     2378.994 from OBSGEO-[XYZ]'.\n"
     ]
    },
    {
     "name": "stdout",
     "output_type": "stream",
     "text": [
      "writting name_of_file in directory\n"
     ]
    },
    {
     "name": "stderr",
     "output_type": "stream",
     "text": [
      "WARNING: FITSFixedWarning: RADECSYS= 'FK5 ' \n",
      "the RADECSYS keyword is deprecated, use RADESYSa. [astropy.wcs.wcs]\n",
      "WARNING:astropy:FITSFixedWarning: RADECSYS= 'FK5 ' \n",
      "the RADECSYS keyword is deprecated, use RADESYSa.\n",
      "WARNING: FITSFixedWarning: 'obsfix' made the change 'Set OBSGEO-L to   -17.885083 from OBSGEO-[XYZ].\n",
      "Set OBSGEO-B to    28.757278 from OBSGEO-[XYZ].\n",
      "Set OBSGEO-H to     2378.994 from OBSGEO-[XYZ]'. [astropy.wcs.wcs]\n",
      "WARNING:astropy:FITSFixedWarning: 'obsfix' made the change 'Set OBSGEO-L to   -17.885083 from OBSGEO-[XYZ].\n",
      "Set OBSGEO-B to    28.757278 from OBSGEO-[XYZ].\n",
      "Set OBSGEO-H to     2378.994 from OBSGEO-[XYZ]'.\n"
     ]
    },
    {
     "name": "stdout",
     "output_type": "stream",
     "text": [
      "writting name_of_file in directory\n",
      "writting name_of_file in directory\n"
     ]
    },
    {
     "name": "stderr",
     "output_type": "stream",
     "text": [
      "WARNING: FITSFixedWarning: RADECSYS= 'FK5 ' \n",
      "the RADECSYS keyword is deprecated, use RADESYSa. [astropy.wcs.wcs]\n",
      "WARNING:astropy:FITSFixedWarning: RADECSYS= 'FK5 ' \n",
      "the RADECSYS keyword is deprecated, use RADESYSa.\n",
      "WARNING: FITSFixedWarning: 'obsfix' made the change 'Set OBSGEO-L to   -17.885083 from OBSGEO-[XYZ].\n",
      "Set OBSGEO-B to    28.757278 from OBSGEO-[XYZ].\n",
      "Set OBSGEO-H to     2378.994 from OBSGEO-[XYZ]'. [astropy.wcs.wcs]\n",
      "WARNING:astropy:FITSFixedWarning: 'obsfix' made the change 'Set OBSGEO-L to   -17.885083 from OBSGEO-[XYZ].\n",
      "Set OBSGEO-B to    28.757278 from OBSGEO-[XYZ].\n",
      "Set OBSGEO-H to     2378.994 from OBSGEO-[XYZ]'.\n"
     ]
    },
    {
     "name": "stdout",
     "output_type": "stream",
     "text": [
      "writting name_of_file in directory\n"
     ]
    }
   ],
   "source": [
    "for file in sci_list_49:\n",
    "    image = CCDData.read(directory / file)\n",
    "    f_image = ccdproc.flat_correct(image,master_flat_49)\n",
    "    name_of_file = 'f'+ str(image.header['FILENAME'])\n",
    "    f_image.header['FILENAME']  = name_of_file\n",
    "    f_image.header['HISTORY']   = str(datetime.datetime.now())[0:18]+' astropy ccdproc flat_correct '\n",
    "    f_image.header['HISTORY']   = 'using NOT2008/N1/master_flat_49.fits master FLAT' \n",
    "    print('writting name_of_file in directory')\n",
    "    f_image.write(directory / name_of_file, overwrite='yes')"
   ]
  },
  {
   "cell_type": "code",
   "execution_count": null,
   "metadata": {},
   "outputs": [],
   "source": []
  }
 ],
 "metadata": {
  "kernelspec": {
   "display_name": "Python 3",
   "language": "python",
   "name": "python3"
  },
  "language_info": {
   "codemirror_mode": {
    "name": "ipython",
    "version": 3
   },
   "file_extension": ".py",
   "mimetype": "text/x-python",
   "name": "python",
   "nbconvert_exporter": "python",
   "pygments_lexer": "ipython3",
   "version": "3.8.7"
  }
 },
 "nbformat": 4,
 "nbformat_minor": 4
}
