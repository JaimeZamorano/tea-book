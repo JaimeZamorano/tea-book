{
 "cells": [
  {
   "cell_type": "markdown",
   "metadata": {},
   "source": [
    "# Example 8: Signal to Noise and PSF"
   ]
  },
  {
   "cell_type": "markdown",
   "metadata": {},
   "source": [
    "Máster en Astrofísica UCM\n",
    "Técnicas Experimentales en Astrofísica\n",
    "\n",
    "Jaime Zamorano, Nicolás Cardiel and Sergio Pascual\n",
    "\n",
    "v1 2021/02/04"
   ]
  },
  {
   "cell_type": "code",
   "execution_count": null,
   "metadata": {},
   "outputs": [],
   "source": [
    "import matplotlib\n",
    "\n",
    "import matplotlib.pyplot as plt\n",
    "from matplotlib.colors import LogNorm\n",
    "from matplotlib.patches import Rectangle\n",
    "from mpl_toolkits.axes_grid1 import make_axes_locatable\n",
    "\n",
    "from astropy.io import fits\n",
    "from astropy.stats import sigma_clip, sigma_clipped_stats, mad_std\n",
    "\n",
    "import ccdproc\n",
    "from ccdproc import CCDData, Combiner\n",
    "from ccdproc import median_filter\n",
    "\n",
    "import numpy as np\n",
    "#import numpy.ma as ma\n",
    "\n",
    "from photutils import DAOStarFinder\n",
    "from photutils import find_peaks\n",
    "from photutils import CircularAperture\n",
    "from photutils import CircularAnnulus\n",
    "from photutils import aperture_photometry"
   ]
  },
  {
   "cell_type": "code",
   "execution_count": null,
   "metadata": {},
   "outputs": [],
   "source": [
    "plt.style.use('./tea.mplstyle')   # Some parameters for nicer graphs"
   ]
  },
  {
   "cell_type": "markdown",
   "metadata": {},
   "source": [
    "Reading and displaying the image data and a region to be used in the first part of the example"
   ]
  },
  {
   "cell_type": "code",
   "execution_count": null,
   "metadata": {},
   "outputs": [],
   "source": [
    "target_url =\"https://guaix.fis.ucm.es/~jaz/master_TEA/FITS_files/ucmP_0050.fits\"\n",
    "target_url =\"ftp://astrax.fis.ucm.es/pub/users/jaz/NOT_2008_04_12-14/N2/AL13055.fits\""
   ]
  },
  {
   "cell_type": "code",
   "execution_count": null,
   "metadata": {},
   "outputs": [],
   "source": [
    "image = fits.getdata(target_url)\n",
    "print(fits.info(target_url))\n",
    "header = fits.getheader(target_url)\n",
    "#print(header)"
   ]
  },
  {
   "cell_type": "code",
   "execution_count": null,
   "metadata": {},
   "outputs": [],
   "source": [
    "#x1, x2, y1, y2 = 100, 500, 300, 700\n",
    "x1, x2, y1, y2 = 800, 1300, 300, 800\n",
    "image_1 = image[x1:x2, y1:y2]\n",
    "image_2 = image_1[250:300, 110:160]\n",
    "vmin,vmax = 1200,10000\n",
    "fig, axarr = plt.subplots(ncols=3, nrows=1, figsize=(14, 9))\n",
    "axarr[0].imshow(image, cmap='gray', vmin=vmin, vmax=vmax,norm=LogNorm())\n",
    "axarr[1].imshow(image_1, cmap='gray', vmin=vmin, vmax=vmax,norm=LogNorm())\n",
    "axarr[2].imshow(image_2, cmap='gray', vmin=vmin, vmax=vmax,norm=LogNorm())"
   ]
  },
  {
   "cell_type": "code",
   "execution_count": null,
   "metadata": {},
   "outputs": [],
   "source": [
    "vmin,vmax = 5000,24000\n",
    "fig, ax = plt.subplots(figsize=(6, 6))\n",
    "img = ax.imshow(image_2, cmap='viridis',vmin=vmin, vmax=vmax,norm=LogNorm())\n",
    "divider = make_axes_locatable(ax)\n",
    "cax = divider.append_axes(\"right\", size=\"5%\", pad=0.05)\n",
    "fig.colorbar(img, cax=cax)\n",
    "ax.grid()\n",
    "print(np.max(image_2))"
   ]
  },
  {
   "cell_type": "code",
   "execution_count": null,
   "metadata": {},
   "outputs": [],
   "source": [
    "# auxiliary function to display a rectangle and compute mean value within it\n",
    "def draw_rectangle(ax, image_data, x1, x2, y1, y2, color, text=False):\n",
    "    ax.plot((x1, x1), (y1, y2), color, lw=1)\n",
    "    ax.plot((x2, x2), (y1, y2), color, lw=1)\n",
    "    ax.plot((x1, x2), (y1, y1), color, lw=1)\n",
    "    ax.plot((x1, x2), (y2, y2), color, lw=1)\n",
    "    if text:\n",
    "        media = image_data[y1:y2,x1:x2].mean()\n",
    "        std   = image_data[y1:y2,x1:x2].std()\n",
    "        ax.text((x1+x2)/2, y1+(y2-y1)/8, str(int(media)), \n",
    "                ha='center', va='center', color=color, fontsize=15)        \n",
    "        ax.text((x1+x2)/2, y2-(y2-y1)/8, str(round(std,1)), \n",
    "                ha='center', va='top', color=color, fontsize=15)\n",
    "    return media, std"
   ]
  },
  {
   "cell_type": "code",
   "execution_count": null,
   "metadata": {},
   "outputs": [],
   "source": [
    "fig, ax = plt.subplots(ncols=1, nrows=1, figsize=(10, 10))\n",
    "img = ax.imshow(image_2, cmap='viridis', vmin=1000, vmax=6000)\n",
    "ax.set_xlabel('X axis')\n",
    "ax.set_ylabel('Y axis')\n",
    "divider = make_axes_locatable(ax)\n",
    "cax = divider.append_axes(\"right\", size=\"5%\", pad=0.05)\n",
    "fig.colorbar(img, cax=cax, label='Number of counts')\n",
    "\n",
    "x1, x2, y1, y2 = 0,50,20,25\n",
    "draw_rectangle(ax,image_2,x1, x2, y1, y2,color='r')"
   ]
  },
  {
   "cell_type": "code",
   "execution_count": null,
   "metadata": {},
   "outputs": [],
   "source": [
    "box_1 = image_2[y1:y2,:]\n",
    "print(box_1.shape)\n",
    "plt.imshow(box_1, cmap='viridis', vmin=1000, vmax=12000)\n",
    "cross_x = box_1.mean(axis=0)\n",
    "print(cross_x.shape)\n",
    "x = np.arange(0,box_1.shape[1])"
   ]
  },
  {
   "cell_type": "code",
   "execution_count": null,
   "metadata": {},
   "outputs": [],
   "source": [
    "fig, ax = plt.subplots(ncols=1, nrows=1, figsize=(9,4))\n",
    "ax.step(x,cross_x)\n",
    "ax.set_xlabel('x axis')\n",
    "ax.set_ylabel('Number of counts')\n",
    "ax.grid()"
   ]
  },
  {
   "cell_type": "code",
   "execution_count": null,
   "metadata": {},
   "outputs": [],
   "source": [
    "from scipy.optimize import curve_fit\n",
    "from scipy import asarray as ar,exp\n",
    "def gaussline(x,cont,a,x0,sigma):\n",
    "    return cont + a*np.exp(-np.power(x - x0, 2)/(2*np.power(sigma, 2)))\n",
    "\n",
    "mean = 1000\n",
    "sigma = 10\n",
    "pars, cov = curve_fit(f=gaussline, xdata=x, ydata=cross_x, p0=[5000,mean, 20, sigma])\n"
   ]
  },
  {
   "cell_type": "code",
   "execution_count": null,
   "metadata": {},
   "outputs": [],
   "source": [
    "print(pars)\n",
    "continuo         = round(pars[0],2)\n",
    "posicion         = round(pars[2],2)\n",
    "sigma            = round(pars[3],2)\n",
    "print('continuo         =',continuo)\n",
    "print('posición central =',posicion)\n",
    "print('sigma            =',sigma)"
   ]
  },
  {
   "cell_type": "code",
   "execution_count": null,
   "metadata": {},
   "outputs": [],
   "source": [
    "ajuste = gaussline(x,pars[0],pars[1],pars[2],pars[3])"
   ]
  },
  {
   "cell_type": "code",
   "execution_count": null,
   "metadata": {},
   "outputs": [],
   "source": [
    "fig, ax = plt.subplots(ncols=1, nrows=1, figsize=(9, 4))\n",
    "ax.step(x,cross_x,label='original')\n",
    "ax.step(x,ajuste,label='fitted gaussian')\n",
    "ax.set_xlabel('x axis [pixels]')\n",
    "ax.set_ylim(0,20000)\n",
    "plt.legend()\n",
    "ax.set_ylabel('Number of counts')\n",
    "ax.grid()"
   ]
  },
  {
   "cell_type": "code",
   "execution_count": null,
   "metadata": {},
   "outputs": [],
   "source": [
    "# pixel = 15µm, 0.2138 arcsec/pixel\n",
    "sigma_arcsec = sigma * 0.2138\n",
    "FWHM = 2.355 * sigma_arcsec\n",
    "print(sigma,sigma_arcsec,FWHM)"
   ]
  },
  {
   "cell_type": "code",
   "execution_count": null,
   "metadata": {},
   "outputs": [],
   "source": [
    "x = np.subtract(x,posicion)\n",
    "x_arcsec = np.multiply(x,0.2138)"
   ]
  },
  {
   "cell_type": "code",
   "execution_count": null,
   "metadata": {},
   "outputs": [],
   "source": [
    "fig, ax = plt.subplots(ncols=1, nrows=1, figsize=(9, 4))\n",
    "ax.plot(x_arcsec,cross_x,'bo',label='original')\n",
    "ax.set_xlabel('x axis [arcsec]')\n",
    "ax.set_ylim(0,20000)\n",
    "ax.set_xlim(-3,2.5)\n",
    "plt.legend()\n",
    "ax.set_xticks(np.arange(-3,4,0.5))\n",
    "ax.set_ylabel('Number of counts')\n",
    "ax.grid()"
   ]
  }
 ],
 "metadata": {
  "kernelspec": {
   "display_name": "Python 3",
   "language": "python",
   "name": "python3"
  },
  "language_info": {
   "codemirror_mode": {
    "name": "ipython",
    "version": 3
   },
   "file_extension": ".py",
   "mimetype": "text/x-python",
   "name": "python",
   "nbconvert_exporter": "python",
   "pygments_lexer": "ipython3",
   "version": "3.7.7"
  }
 },
 "nbformat": 4,
 "nbformat_minor": 4
}
