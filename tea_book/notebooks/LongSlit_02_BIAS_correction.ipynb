{
 "cells": [
  {
   "cell_type": "markdown",
   "metadata": {},
   "source": [
    "# LongSlit-02:   BIAS correction \n",
    "\n",
    "## Overview\n",
    "1. Build a list of BIAS image files\n",
    "2. Display and statistics\n",
    "3. Overscan correction and trimming\n",
    "3. Combine to obtain master BIAS"
   ]
  },
  {
   "cell_type": "markdown",
   "metadata": {},
   "source": [
    "<pre>\n",
    "Máster en Astrofísica UCM  -- Técnicas Experimentales en Astrofísica  \n",
    "Jaime Zamorano, Nicolás Cardiel and Sergio Pascual\n",
    "\n",
    "Version 1.0 2021/02/12  \n",
    "</pre>"
   ]
  },
  {
   "cell_type": "markdown",
   "metadata": {},
   "source": [
    "Note that the ``astropy`` package should be installed. In this sense, have a look to the\n",
    "astropy installation description: https://docs.astropy.org/en/stable/install.html."
   ]
  },
  {
   "cell_type": "code",
   "execution_count": null,
   "metadata": {},
   "outputs": [],
   "source": [
    "from astropy.io import fits\n",
    "import matplotlib\n",
    "import matplotlib.pyplot as plt\n",
    "import numpy as np\n",
    "from mpl_toolkits.axes_grid1 import make_axes_locatable\n",
    "import ccdproc\n",
    "from ccdproc import CCDData, Combiner, subtract_overscan"
   ]
  },
  {
   "cell_type": "code",
   "execution_count": null,
   "metadata": {},
   "outputs": [],
   "source": [
    "plt.style.use('./tea.mplstyle')    # Some parameters for nicer graphs"
   ]
  },
  {
   "cell_type": "markdown",
   "metadata": {},
   "source": [
    "### Working with images in a directory\n",
    "We will use the files of the first night of observations at NOT (Nordic Optical Telescope) 2008 that can be downloaded from   ftp://astrax.fis.ucm.es/pub/users/jaz/NOT_2008_04_12-14/N1/\n",
    "or \n",
    "http://guaix.fis.ucm.es/~jaz/master_TEA/observaciones_NOT_2008/N1/\n",
    "\n",
    "``directory`` should point to the directory with the downloaded images"
   ]
  },
  {
   "cell_type": "code",
   "execution_count": null,
   "metadata": {},
   "outputs": [],
   "source": [
    "directory='/Users/jzamorano/Desktop/INT_1997/N1/'"
   ]
  },
  {
   "cell_type": "markdown",
   "metadata": {},
   "source": [
    "Let\\'s create a list containing all the BIAS files in that directory "
   ]
  },
  {
   "cell_type": "code",
   "execution_count": null,
   "metadata": {},
   "outputs": [],
   "source": [
    "from ccdproc import ImageFileCollection\n",
    "from ccdproc.utils.sample_directory import sample_directory_with_files\n",
    "ic_all = ImageFileCollection(directory, keywords='*')\n",
    "print(ic_all.summary.colnames)"
   ]
  },
  {
   "cell_type": "code",
   "execution_count": null,
   "metadata": {},
   "outputs": [],
   "source": [
    "ic_all.summary['file', 'imagetyp', 'exptime', 'naxis1', 'naxis2']"
   ]
  },
  {
   "cell_type": "code",
   "execution_count": null,
   "metadata": {},
   "outputs": [],
   "source": [
    "keys = ['file','OBJECT' , 'EXPTIME' , 'OBSTYPE' , 'CCDSTEMP', 'CCDATEMP']\n",
    "ic1 = ImageFileCollection(directory, keywords=keys) # only keep track of keys\n",
    "ic1.summary.colnames"
   ]
  },
  {
   "cell_type": "code",
   "execution_count": null,
   "metadata": {},
   "outputs": [],
   "source": [
    "bias_images = ic1.files_filtered(regex_match=True,imagetyp='bias|light')\n",
    "print(bias_images)"
   ]
  },
  {
   "cell_type": "code",
   "execution_count": null,
   "metadata": {},
   "outputs": [],
   "source": [
    "image_bias, filename_bias = [], []\n",
    "for file in bias_images:\n",
    "    print(file)\n",
    "    image = CCDData.read(directory+file, unit=\"adu\")\n",
    "    image_bias.append(image)\n",
    "    filename_bias.append(file)"
   ]
  },
  {
   "cell_type": "code",
   "execution_count": null,
   "metadata": {},
   "outputs": [],
   "source": [
    "# auxiliary function to display a rectangle and compute mean value within it\n",
    "def draw_rectangle(ax, image_data, x1, x2, y1, y2, color, text=False):\n",
    "    ax.plot((x1, x1), (y1, y2), color, lw=1)\n",
    "    ax.plot((x2, x2), (y1, y2), color, lw=1)\n",
    "    ax.plot((x1, x2), (y1, y1), color, lw=1)\n",
    "    ax.plot((x1, x2), (y2, y2), color, lw=1)\n",
    "    if text:\n",
    "        media = image_data[y1:y2,x1:x2].mean()\n",
    "        std   = image_data[y1:y2,x1:x2].std()\n",
    "        ax.text((x1+x2)/2, y1+(y2-y1)/8, str(int(media)), \n",
    "                ha='center', va='center', color=color, fontsize=15)        \n",
    "        ax.text((x1+x2)/2, y2-(y2-y1)/8, str(round(std,1)), \n",
    "                ha='center', va='top', color=color, fontsize=15)\n",
    "    return media, std"
   ]
  },
  {
   "cell_type": "code",
   "execution_count": null,
   "metadata": {},
   "outputs": [],
   "source": [
    "mean_bias, std_bias, expo_bias = [], [], []\n",
    "fig, ax = plt.subplots(ncols=1, nrows=len(bias_images), figsize=(14, 20))\n",
    "n = 0\n",
    "for i in range(len(bias_images)):\n",
    "    img = ax[n].imshow(image_bias[i], cmap='gray', origin='lower',vmin=685,vmax=700)\n",
    "    ax[n].set_xlabel('X axis')\n",
    "    ax[n].set_ylabel('Y axis')\n",
    "    ax[n].text(100,200,filename_bias[i],color='w',fontsize=20)\n",
    "    divider = make_axes_locatable(ax[n])\n",
    "    mean,std = draw_rectangle(ax[n], image_bias[i].data , 400, 600, 50, 200, color='w',text=True)\n",
    "    mean_bias.append(mean)\n",
    "    std_bias.append(std)\n",
    "    expo_bias.append(image_bias[i].header['EXPTIME'])\n",
    "    cax = divider.append_axes(\"right\", size=\"5%\", pad=0.05)\n",
    "    fig.colorbar(img, cax=cax)\n",
    "    n = n+1"
   ]
  },
  {
   "cell_type": "code",
   "execution_count": null,
   "metadata": {},
   "outputs": [],
   "source": [
    "bias_images = np.delete(bias_images,2)"
   ]
  },
  {
   "cell_type": "markdown",
   "metadata": {},
   "source": [
    "### Checking dark current"
   ]
  },
  {
   "cell_type": "code",
   "execution_count": null,
   "metadata": {},
   "outputs": [],
   "source": [
    "dark_images = ic1.files_filtered(regex_match=True,object='dark')\n",
    "print(dark_images)"
   ]
  },
  {
   "cell_type": "code",
   "execution_count": null,
   "metadata": {},
   "outputs": [],
   "source": [
    "image_dark , filename_dark , expo_dark = [], [], []\n",
    "for file in dark_images:\n",
    "    print(directory+file)\n",
    "    image = CCDData.read(directory+file, unit=\"adu\")\n",
    "    image_dark.append(image)\n",
    "    filename_dark.append(file)    \n",
    "    expo_dark.append(image.header['EXPTIME'])"
   ]
  },
  {
   "cell_type": "code",
   "execution_count": null,
   "metadata": {},
   "outputs": [],
   "source": [
    "mean_dark, std_dark = [], []\n",
    "fig, ax = plt.subplots(ncols=1, nrows=len(dark_images), figsize=(14, 6))\n",
    "n = 0\n",
    "for i in range(len(dark_images)):\n",
    "    img = ax[n].imshow(image_dark[i], cmap='gray', origin='lower',vmin=650,vmax=750)\n",
    "    ax[n].set_xlabel('X axis')\n",
    "    ax[n].set_ylabel('Y axis')\n",
    "    ax[n].text(100,200,filename_dark[i],color='w',fontsize=20)\n",
    "    ax[n].text(900,200,str(expo_dark[i])+' s',color='w',fontsize=20)\n",
    "    divider = make_axes_locatable(ax[n])\n",
    "    draw_rectangle(ax[n], image_dark[i].data , 700, 850, 50, 200, color='w',text=True)\n",
    "    mean,std = draw_rectangle(ax[n], image_dark[i].data , 80, 160, 10, 100, color='w',text=True)\n",
    "    mean_dark.append(mean)\n",
    "    std_dark.append(std)\n",
    "    cax = divider.append_axes(\"right\", size=\"5%\", pad=0.05)\n",
    "    fig.colorbar(img, cax=cax)\n",
    "    n = n+1"
   ]
  },
  {
   "cell_type": "code",
   "execution_count": null,
   "metadata": {},
   "outputs": [],
   "source": [
    "fig, ax = plt.subplots(ncols=1, nrows=1, figsize=(9, 4))\n",
    "ax.plot(expo_bias,mean_bias,'bo')\n",
    "ax.plot(expo_dark,mean_dark,'ro')\n",
    "ax.set_xlabel('texpo [s]')\n",
    "ax.set_ylabel('Mean [counts]')"
   ]
  },
  {
   "cell_type": "markdown",
   "metadata": {},
   "source": [
    "## Substract overscan"
   ]
  },
  {
   "cell_type": "markdown",
   "metadata": {},
   "source": [
    "Before creating a master_BIAS we should correct from overscan.  "
   ]
  },
  {
   "cell_type": "code",
   "execution_count": null,
   "metadata": {},
   "outputs": [],
   "source": [
    "image_bias_no_scan = []\n",
    "for i in range(len(bias_images)):\n",
    "    no_scan = subtract_overscan(image_bias[i], overscan=image_bias[i][:, 0:50])\n",
    "    image_bias_no_scan.append(no_scan)"
   ]
  },
  {
   "cell_type": "markdown",
   "metadata": {},
   "source": [
    "## superBIAS"
   ]
  },
  {
   "cell_type": "code",
   "execution_count": null,
   "metadata": {},
   "outputs": [],
   "source": [
    "combiner = Combiner(image_bias_no_scan)"
   ]
  },
  {
   "cell_type": "code",
   "execution_count": null,
   "metadata": {},
   "outputs": [],
   "source": [
    "master_BIAS = combiner.median_combine()"
   ]
  },
  {
   "cell_type": "markdown",
   "metadata": {},
   "source": [
    "We trim the resulting master_BIAS using Python simple operation on arrays."
   ]
  },
  {
   "cell_type": "code",
   "execution_count": null,
   "metadata": {},
   "outputs": [],
   "source": [
    "master_BIAS_N1 = master_BIAS[:,50:-50]\n",
    "print(master_BIAS.shape, master_BIAS_N1.shape)"
   ]
  },
  {
   "cell_type": "code",
   "execution_count": null,
   "metadata": {},
   "outputs": [],
   "source": [
    "fig, ax = plt.subplots(ncols=1, nrows=3, figsize=(14, 9))\n",
    "img = ax[0].imshow(image_bias[0], cmap='gray', origin='lower',vmin=685,vmax=700)\n",
    "ax[0].text(100,200,filename_bias[0],color='k',fontsize=20)\n",
    "draw_rectangle(ax[0], image_bias[0].data , 400, 600, 30, 170, color='w',text=True)\n",
    "img = ax[1].imshow(image_bias[-1], cmap='gray', origin='lower',vmin=685,vmax=700)\n",
    "ax[1].text(100,200,filename_bias[-1],color='w',fontsize=20)\n",
    "draw_rectangle(ax[1], image_bias[-1].data , 400, 600, 30, 170, color='w',text=True)\n",
    "img = ax[2].imshow(master_BIAS_N1, cmap='gray', origin='lower',vmin=0,vmax=5)\n",
    "ax[2].text(100,200,'master_BIAS_N1',color='w',fontsize=20)\n",
    "for n in range(6):\n",
    "    draw_rectangle(ax[2], master_BIAS.data , 50+n*150, 200+n*150, 30, 170, color='w',text=True)"
   ]
  },
  {
   "cell_type": "code",
   "execution_count": null,
   "metadata": {
    "scrolled": true
   },
   "outputs": [],
   "source": [
    "fig, ax = plt.subplots(ncols=1, nrows=1, figsize=(10,4))\n",
    "step = 2\n",
    "bins = np.arange(670,720,step)\n",
    "h_single = ax.hist(image_bias[0].data.flatten(), bins=bins, density=True, \n",
    "             label=\"single BIAS\", alpha=0.4);\n",
    "# Adding mean value of sinle BIAS to compare histograms\n",
    "h_master = ax.hist(master_BIAS_N1.data.flatten()+693, bins=bins, density=True, \n",
    "             label=\"master_BIAS_N1\", alpha=0.4);\n",
    "ax.legend()\n",
    "ax.grid()\n",
    "#print(h_single)\n",
    "\n",
    "# To fit a gaussian\n",
    "from scipy.optimize import curve_fit      \n",
    "xx = np.arange(670,720,0.2)\n",
    "# Gaussian function definition\n",
    "def gaus(x,a,x0,sigma):\n",
    "    return a*np.exp(-(x-x0)**2/(2*sigma**2))\n",
    "# Transforming from bins edges to bins' centers\n",
    "x = np.add(h_single[1][:-1],step/2.)\n",
    "# values obtained from histogram\n",
    "y = h_single[0]\n",
    "# Fitting  (with some initial guesses)\n",
    "popt,pcov = curve_fit(gaus,x,y,p0=[1,690,10])\n",
    "# From results we can get center and width \n",
    "sigma = popt[2]\n",
    "# Plotting the fit \n",
    "y_new = gaus(xx,*popt)\n",
    "plt.plot(xx,y_new,lw=2,label=\"norm sigma = \"+str(round(sigma,1)))\n",
    "# again for the master_BIAS\n",
    "y = h_master[0]\n",
    "popt,pcov = curve_fit(gaus,x,y,p0=[1,690,10])\n",
    "sigma = popt[2]\n",
    "y_new = gaus(xx,*popt)\n",
    "plt.plot(xx,y_new,lw=2,label=\"norm sigma = \"+str(round(sigma,1)))\n",
    "\n",
    "ax.legend()"
   ]
  },
  {
   "cell_type": "markdown",
   "metadata": {},
   "source": [
    "### Checking BIAS correction\n",
    "#21 45246.fits 600.0     U1256+2722 PA=315 171"
   ]
  },
  {
   "cell_type": "code",
   "execution_count": null,
   "metadata": {},
   "outputs": [],
   "source": [
    "image_science = CCDData.read(directory+'45246.fits', unit=\"adu\")"
   ]
  },
  {
   "cell_type": "code",
   "execution_count": null,
   "metadata": {},
   "outputs": [],
   "source": [
    "fig, ax = plt.subplots(ncols=1, nrows=1, figsize=(14,6))\n",
    "img = ax.imshow(image_science, cmap='viridis', origin='lower',vmin=680,vmax=740)\n",
    "ax.set_xlabel('X axis')\n",
    "ax.set_ylabel('Y axis')\n",
    "ax.text(150,200,image_science.header['object'],color='w',fontsize=20)\n",
    "divider = make_axes_locatable(ax)\n",
    "cax = divider.append_axes(\"right\", size=\"5%\", pad=0.05)\n",
    "fig.colorbar(img, cax=cax)\n",
    "draw_rectangle(ax, image_science.data , 720, 820, 110, 210, color='w',text=True)\n",
    "draw_rectangle(ax, image_science.data , 0, 50, 40, 240, color='w',text=True)\n"
   ]
  },
  {
   "cell_type": "code",
   "execution_count": null,
   "metadata": {},
   "outputs": [],
   "source": [
    "    science_no_scan = subtract_overscan(image_science, overscan=image_science[:, 0:50])"
   ]
  },
  {
   "cell_type": "code",
   "execution_count": null,
   "metadata": {},
   "outputs": [],
   "source": [
    "fig, ax = plt.subplots(ncols=1, nrows=1, figsize=(14,6))\n",
    "img = ax.imshow(science_no_scan, cmap='viridis', origin='lower',vmin=0,vmax=60)\n",
    "ax.set_xlabel('X axis')\n",
    "ax.set_ylabel('Y axis')\n",
    "ax.text(150,200,science_no_scan.header['object'],color='w',fontsize=20)\n",
    "divider = make_axes_locatable(ax)\n",
    "cax = divider.append_axes(\"right\", size=\"5%\", pad=0.05)\n",
    "fig.colorbar(img, cax=cax)\n",
    "draw_rectangle(ax, science_no_scan.data , 720, 820, 110, 210, color='w',text=True)\n",
    "draw_rectangle(ax, science_no_scan.data , 0, 50, 40, 240, color='w',text=True)\n"
   ]
  },
  {
   "cell_type": "code",
   "execution_count": null,
   "metadata": {},
   "outputs": [],
   "source": [
    "t_science_image = ccdproc.trim_image(science_no_scan[:,50:-50])"
   ]
  },
  {
   "cell_type": "code",
   "execution_count": null,
   "metadata": {},
   "outputs": [],
   "source": [
    "bias_subtracted_science = ccdproc.subtract_bias(t_science_image, master_BIAS_N1)"
   ]
  },
  {
   "cell_type": "code",
   "execution_count": null,
   "metadata": {},
   "outputs": [],
   "source": [
    "fig, ax = plt.subplots(ncols=1, nrows=1, figsize=(14,6))\n",
    "img = ax.imshow(bias_subtracted_science, cmap='viridis', origin='lower',vmin=0,vmax=50)\n",
    "ax.set_xlabel('X axis')\n",
    "ax.set_ylabel('Y axis')\n",
    "ax.text(150,200,bias_subtracted_science.header['object'],color='w',fontsize=20)\n",
    "divider = make_axes_locatable(ax)\n",
    "cax = divider.append_axes(\"right\", size=\"5%\", pad=0.05)\n",
    "fig.colorbar(img, cax=cax)\n",
    "draw_rectangle(ax, bias_subtracted_science.data , 670, 770, 110, 210, color='w',text=True)"
   ]
  },
  {
   "cell_type": "code",
   "execution_count": null,
   "metadata": {},
   "outputs": [],
   "source": [
    "fig, ax = plt.subplots(ncols=1, nrows=2, figsize=(14, 6))\n",
    "img = ax[0].imshow(science_no_scan, cmap='viridis', origin='lower',vmin=0,vmax=40)\n",
    "draw_rectangle(ax[0], science_no_scan.data , 720, 820, 110, 210, color='w',text=True)\n",
    "draw_rectangle(ax[0], science_no_scan.data , 350, 450, 150, 210, color='w',text=True)\n",
    "\n",
    "img = ax[1].imshow(bias_subtracted_science, cmap='viridis', origin='lower',vmin=0,vmax=40)\n",
    "draw_rectangle(ax[1], bias_subtracted_science.data, 670, 770, 110, 210, color='w',text=True)\n",
    "draw_rectangle(ax[1], bias_subtracted_science.data, 300, 400, 150, 210, color='w',text=True)\n"
   ]
  },
  {
   "cell_type": "code",
   "execution_count": null,
   "metadata": {},
   "outputs": [],
   "source": [
    "fig, ax = plt.subplots(ncols=1, nrows=1, figsize=(10,4))\n",
    "bins=np.arange(-30,30,2)\n",
    "ax.hist(science_no_scan.data.flatten(), bins=bins, align='mid', density=True, \n",
    "             label=\"original\", alpha=0.4);\n",
    "ax.hist(bias_subtracted_science.data.flatten(), bins=bins, align='mid', density=True, \n",
    "             label=\"BIAS subtracted\", alpha=0.4);\n",
    "ax.legend()"
   ]
  },
  {
   "cell_type": "code",
   "execution_count": null,
   "metadata": {},
   "outputs": [],
   "source": []
  }
 ],
 "metadata": {
  "kernelspec": {
   "display_name": "Python 3",
   "language": "python",
   "name": "python3"
  },
  "language_info": {
   "codemirror_mode": {
    "name": "ipython",
    "version": 3
   },
   "file_extension": ".py",
   "mimetype": "text/x-python",
   "name": "python",
   "nbconvert_exporter": "python",
   "pygments_lexer": "ipython3",
   "version": "3.7.7"
  }
 },
 "nbformat": 4,
 "nbformat_minor": 4
}
