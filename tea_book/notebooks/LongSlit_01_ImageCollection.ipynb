{
 "cells": [
  {
   "cell_type": "markdown",
   "metadata": {},
   "source": [
    "# LongSlit-01:   Classify images  \n",
    "\n",
    "## Overview\n",
    "1. Start CCD reduction using ccdproc\n",
    "2. Creating lists of images \n",
    "3. Examples"
   ]
  },
  {
   "cell_type": "markdown",
   "metadata": {},
   "source": [
    "<pre>\n",
    "Máster en Astrofísica UCM  -- Técnicas Experimentales en Astrofísica  \n",
    "Jaime Zamorano, Nicolás Cardiel and Sergio pascual\n",
    "\n",
    "Version 1.0 2021/02/09  \n",
    "</pre>"
   ]
  },
  {
   "cell_type": "markdown",
   "metadata": {},
   "source": [
    "Note that the ``astropy`` package should be installed. In this sense, have a look to the\n",
    "astropy installation description: https://docs.astropy.org/en/stable/install.html."
   ]
  },
  {
   "cell_type": "code",
   "execution_count": null,
   "metadata": {},
   "outputs": [],
   "source": [
    "from astropy.io import fits\n",
    "import matplotlib\n",
    "import matplotlib.pyplot as plt\n",
    "import numpy as np\n",
    "from mpl_toolkits.axes_grid1 import make_axes_locatable\n",
    "from ccdproc import CCDData, Combiner, subtract_overscan"
   ]
  },
  {
   "cell_type": "code",
   "execution_count": null,
   "metadata": {},
   "outputs": [],
   "source": [
    "plt.style.use('./tea.mplstyle')    # Some parameters for nicer graphs"
   ]
  },
  {
   "cell_type": "markdown",
   "metadata": {},
   "source": [
    "### Working with images in a directory\n",
    "We will use the files of the first night of observations at NOT (Nordic Optical Telescope) 2008 that can be downloaded from   ftp://astrax.fis.ucm.es/pub/users/jaz/NOT_2008_04_12-14/N1/\n",
    "or \n",
    "http://guaix.fis.ucm.es/~jaz/master_TEA/observaciones_NOT_2008/N1/\n",
    "\n",
    "``directory`` should point to the directory with the downloaded images"
   ]
  },
  {
   "cell_type": "code",
   "execution_count": null,
   "metadata": {},
   "outputs": [],
   "source": [
    "directory='/Users/jzamorano/Desktop/INT_1997/N1/'"
   ]
  },
  {
   "cell_type": "markdown",
   "metadata": {},
   "source": [
    "Let\\'s create a list containing all the FITS files in that directory "
   ]
  },
  {
   "cell_type": "code",
   "execution_count": null,
   "metadata": {},
   "outputs": [],
   "source": [
    "# only works in notebooks\n",
    "# we can pass the python variable to shell\n",
    "filelist = !ls $directory/*.fits"
   ]
  },
  {
   "cell_type": "code",
   "execution_count": null,
   "metadata": {},
   "outputs": [],
   "source": [
    "from pathlib import Path\n",
    "p = Path(directory)\n",
    "filelist = list(sorted(p.glob('*.fits')))\n",
    "print(filelist[10:14])    # printing only from 10 to 20"
   ]
  },
  {
   "cell_type": "markdown",
   "metadata": {},
   "source": [
    "Let\\'s open one of the files to explore the HEADER keywords"
   ]
  },
  {
   "cell_type": "code",
   "execution_count": null,
   "metadata": {},
   "outputs": [],
   "source": [
    "HDUList_object = fits.open(filelist[-8])\n",
    "HDUList_object.info()"
   ]
  },
  {
   "cell_type": "code",
   "execution_count": null,
   "metadata": {},
   "outputs": [],
   "source": [
    "primary_HDU = HDUList_object[0]"
   ]
  },
  {
   "cell_type": "code",
   "execution_count": null,
   "metadata": {},
   "outputs": [],
   "source": [
    "# Extract primary header\n",
    "primary_header = primary_HDU.header\n",
    "\n",
    "# Index header object with keyword name and print value\n",
    "print(primary_header['OBJECT'],primary_header['EXPTIME'],primary_header['OBSTYPE'])"
   ]
  },
  {
   "cell_type": "code",
   "execution_count": null,
   "metadata": {},
   "outputs": [],
   "source": [
    "for key in primary_header:\n",
    "    print('{:8} = {}'.format(key, primary_header[key]))"
   ]
  },
  {
   "cell_type": "markdown",
   "metadata": {},
   "source": [
    "Each telescope/instrument has differences in the ``keyword``names.  "
   ]
  },
  {
   "cell_type": "markdown",
   "metadata": {},
   "source": [
    "## Complete list and some info"
   ]
  },
  {
   "cell_type": "code",
   "execution_count": null,
   "metadata": {},
   "outputs": [],
   "source": [
    "for i in range(len(filelist)):\n",
    "    file = filelist[i]\n",
    "    HDUList_object = fits.open(file)\n",
    "    primary_HDU = HDUList_object[0]\n",
    "    header = primary_HDU.header\n",
    "    print(i,str(file)[37:],header['EXPTIME'],'   ',header['OBJECT'],header['CCDATEMP'])"
   ]
  },
  {
   "cell_type": "markdown",
   "metadata": {},
   "source": [
    "### Reading the files"
   ]
  },
  {
   "cell_type": "code",
   "execution_count": null,
   "metadata": {},
   "outputs": [],
   "source": [
    "image_data, header , filename = [] , [], []\n",
    "for i in range(len(filelist)):\n",
    "    file = filelist[i]\n",
    "    HDUList_object = fits.open(file)\n",
    "    primary_HDU = HDUList_object[0]\n",
    "    header.append(primary_HDU.header)\n",
    "    image_data.append(primary_HDU.data)\n",
    "    filename.append(str(file)[37:])\n",
    "    HDUList_object.close()\n",
    "print(filename)"
   ]
  },
  {
   "cell_type": "markdown",
   "metadata": {},
   "source": [
    "### Displaying some files"
   ]
  },
  {
   "cell_type": "markdown",
   "metadata": {},
   "source": [
    "#### BIAS files (at the beginning of the night)"
   ]
  },
  {
   "cell_type": "code",
   "execution_count": null,
   "metadata": {},
   "outputs": [],
   "source": [
    "fig, ax = plt.subplots(ncols=1, nrows=5, figsize=(14, 12))\n",
    "n = 0\n",
    "for i in range(3,8):\n",
    "    img = ax[n].imshow(image_data[i], cmap='gray', origin='lower',vmin=685,vmax=700)\n",
    "    ax[n].set_xlabel('X axis')\n",
    "    ax[n].set_ylabel('Y axis')\n",
    "    ax[n].text(100,200,filename[i],color='k',fontsize=20)\n",
    "    ax[n].text(400,200,round(np.mean(image_data[i][100:200,600:800]),2),color='k',fontsize=20)\n",
    "    divider = make_axes_locatable(ax[n])\n",
    "    cax = divider.append_axes(\"right\", size=\"5%\", pad=0.05)\n",
    "    fig.colorbar(img, cax=cax)\n",
    "    n = n+1"
   ]
  },
  {
   "cell_type": "markdown",
   "metadata": {},
   "source": [
    "#### BIAS files (at the end of the night)"
   ]
  },
  {
   "cell_type": "code",
   "execution_count": null,
   "metadata": {},
   "outputs": [],
   "source": [
    "fig, ax = plt.subplots(ncols=1, nrows=5, figsize=(14, 12))\n",
    "n = 0\n",
    "for i in range(31,36):\n",
    "    img = ax[n].imshow(image_data[i], cmap='gray', origin='lower',vmin=685,vmax=700)\n",
    "    ax[n].set_xlabel('X axis')\n",
    "    ax[n].set_ylabel('Y axis')\n",
    "    ax[n].text(100,200,filename[i],color='w',fontsize=20)\n",
    "    ax[n].text(500,200,round(np.mean(image_data[i][100:200,600:800]),2),color='w',fontsize=20)\n",
    "    divider = make_axes_locatable(ax[n])\n",
    "    cax = divider.append_axes(\"right\", size=\"5%\", pad=0.05)\n",
    "    fig.colorbar(img, cax=cax)\n",
    "    n = n+1"
   ]
  },
  {
   "cell_type": "markdown",
   "metadata": {},
   "source": [
    "There is a small difference of signal at the beginning and end of the night.  \n",
    "The 45230.fits BIAS is useless."
   ]
  },
  {
   "cell_type": "markdown",
   "metadata": {},
   "source": [
    "#### Sky FLATS files "
   ]
  },
  {
   "cell_type": "code",
   "execution_count": null,
   "metadata": {},
   "outputs": [],
   "source": [
    "fig, ax = plt.subplots(ncols=1, nrows=3, figsize=(14, 8))\n",
    "n = 0\n",
    "for i in range(0,3):\n",
    "    img = ax[n].imshow(image_data[i], cmap='gray', origin='lower',vmin=600,vmax=1000)\n",
    "    ax[n].set_xlabel('X axis')\n",
    "    ax[n].set_ylabel('Y axis')\n",
    "    ax[n].text(150,200,filename[i],color='w',fontsize=20)\n",
    "    ax[n].text(500,200,round(np.mean(image_data[i][100:200,600:800]),2),color='w',fontsize=20)\n",
    "    divider = make_axes_locatable(ax[n])\n",
    "    cax = divider.append_axes(\"right\", size=\"5%\", pad=0.05)\n",
    "    fig.colorbar(img, cax=cax)\n",
    "    n = n+1"
   ]
  },
  {
   "cell_type": "markdown",
   "metadata": {},
   "source": [
    "#### Arcs"
   ]
  },
  {
   "cell_type": "code",
   "execution_count": null,
   "metadata": {},
   "outputs": [],
   "source": [
    "fig, ax = plt.subplots(ncols=1, nrows=3, figsize=(10, 8))\n",
    "n = 0\n",
    "for i in range(28,31):\n",
    "    img = ax[n].imshow(image_data[i], cmap='gray', origin='lower',vmin=600,vmax=1000)\n",
    "    ax[n].set_xlabel('X axis')\n",
    "    ax[n].set_ylabel('Y axis')\n",
    "    ax[n].text(150,200,filename[i],color='w',fontsize=20)\n",
    "    ax[n].text(540,200,round(np.mean(image_data[i][100:200,600:800]),2),color='w',fontsize=20)\n",
    "    divider = make_axes_locatable(ax[n])\n",
    "    cax = divider.append_axes(\"right\", size=\"5%\", pad=0.05)\n",
    "    fig.colorbar(img, cax=cax)\n",
    "    n = n+1"
   ]
  },
  {
   "cell_type": "markdown",
   "metadata": {},
   "source": [
    "#### Lamp FLATS files "
   ]
  },
  {
   "cell_type": "code",
   "execution_count": null,
   "metadata": {},
   "outputs": [],
   "source": [
    "fig, ax = plt.subplots(ncols=1, nrows=6, figsize=(16, 14))\n",
    "n = 0\n",
    "for i in range(39,45):\n",
    "    img = ax[n].imshow(image_data[i], cmap='gray', origin='lower',vmin=600,vmax=50000)\n",
    "    ax[n].set_xlabel('X axis')\n",
    "    ax[n].set_ylabel('Y axis')\n",
    "    ax[n].text(150,200,filename[i],color='k',fontsize=20)\n",
    "    ax[n].text(500,200,round(np.mean(image_data[i][100:200,600:800]),2),color='k',fontsize=20)\n",
    "    divider = make_axes_locatable(ax[n])\n",
    "    cax = divider.append_axes(\"right\", size=\"5%\", pad=0.05)\n",
    "    fig.colorbar(img, cax=cax)\n",
    "    n = n+1"
   ]
  },
  {
   "cell_type": "markdown",
   "metadata": {},
   "source": [
    "#### Science images"
   ]
  },
  {
   "cell_type": "code",
   "execution_count": null,
   "metadata": {},
   "outputs": [],
   "source": [
    "fig, ax = plt.subplots(ncols=1, nrows=9, figsize=(16, 24))\n",
    "n = 0\n",
    "for i in range(18,27):\n",
    "    img = ax[n].imshow(image_data[i], cmap='gray', origin='lower',vmin=670,vmax=750)\n",
    "    ax[n].set_xlabel('X axis')\n",
    "    ax[n].set_ylabel('Y axis')\n",
    "    ax[n].text(150,200,filename[i],color='w',fontsize=20)\n",
    "    ax[n].text(500,200,round(np.mean(image_data[i][100:200,600:800]),2),color='w',fontsize=20)\n",
    "    divider = make_axes_locatable(ax[n])\n",
    "    cax = divider.append_axes(\"right\", size=\"5%\", pad=0.05)\n",
    "    fig.colorbar(img, cax=cax)\n",
    "    n = n+1"
   ]
  },
  {
   "cell_type": "markdown",
   "metadata": {},
   "source": [
    "### Selecting files by type \n",
    "We wish to create lists containing the BIAS files to build the master BIAS or those scientific files taken with the same filter to apply the corresponding Flat Field, to name two examples."
   ]
  },
  {
   "cell_type": "code",
   "execution_count": null,
   "metadata": {},
   "outputs": [],
   "source": [
    "from ccdproc import ImageFileCollection\n",
    "from ccdproc.utils.sample_directory import sample_directory_with_files\n",
    "ic_all = ImageFileCollection(directory, keywords='*')\n",
    "print(ic_all.summary.colnames)"
   ]
  },
  {
   "cell_type": "code",
   "execution_count": null,
   "metadata": {},
   "outputs": [],
   "source": [
    "ic_all.summary['file', 'imagetyp', 'exptime', 'naxis1', 'naxis2']"
   ]
  },
  {
   "cell_type": "code",
   "execution_count": null,
   "metadata": {},
   "outputs": [],
   "source": [
    "keys = ['file','OBJECT' , 'EXPTIME' , 'OBSTYPE' , 'CCDSTEMP', 'CCDATEMP']\n",
    "ic1 = ImageFileCollection(directory, keywords=keys) # only keep track of keys\n",
    "ic1.summary.colnames"
   ]
  },
  {
   "cell_type": "code",
   "execution_count": null,
   "metadata": {},
   "outputs": [],
   "source": [
    "# BIAS \n",
    "matches = (ic1.summary['OBSTYPE'] == 'BIAS') \n",
    "bias_list = ic1.summary['file'][matches]\n",
    "for i in range(len(bias_list)):\n",
    "    HDUList_object = fits.open(directory+bias_list[i])\n",
    "    primary_HDU = HDUList_object[0]\n",
    "    header = primary_HDU.header\n",
    "    print('BIAS',i,bias_list[i],header['EXPTIME'],header['CCDSTEMP'],header['CCDATEMP'])"
   ]
  },
  {
   "cell_type": "code",
   "execution_count": null,
   "metadata": {},
   "outputs": [],
   "source": [
    "# DARKS\n",
    "matches = (ic1.summary['OBSTYPE'] == 'DARK') \n",
    "dark_list = ic1.summary['file'][matches]\n",
    "for i in range(len(dark_list)):\n",
    "    HDUList_object = fits.open(directory+dark_list[i])\n",
    "    primary_HDU = HDUList_object[0]\n",
    "    header = primary_HDU.header\n",
    "    print('DARK',i,dark_list[i],header['EXPTIME'])"
   ]
  },
  {
   "cell_type": "markdown",
   "metadata": {},
   "source": [
    "## Easier way to select files"
   ]
  },
  {
   "cell_type": "code",
   "execution_count": null,
   "metadata": {},
   "outputs": [],
   "source": [
    "bias_images = ic1.files_filtered(regex_match=True,imagetyp='bias|light')\n",
    "print(bias_images)\n",
    "bias_images"
   ]
  },
  {
   "cell_type": "code",
   "execution_count": null,
   "metadata": {},
   "outputs": [],
   "source": [
    "ic_all.summary[('file', 'imagetyp', 'exptime', 'naxis1', 'naxis2') if 'imagetyp='BIAS']"
   ]
  },
  {
   "cell_type": "code",
   "execution_count": null,
   "metadata": {},
   "outputs": [],
   "source": [
    "bias_images = np.delete(bias_images,2)"
   ]
  },
  {
   "cell_type": "code",
   "execution_count": null,
   "metadata": {},
   "outputs": [],
   "source": [
    "print(bias_images)"
   ]
  },
  {
   "cell_type": "code",
   "execution_count": null,
   "metadata": {},
   "outputs": [],
   "source": [
    "flat_images = ic1.files_filtered(regex_match=True,object='flat')\n",
    "print(flat_images)"
   ]
  },
  {
   "cell_type": "code",
   "execution_count": null,
   "metadata": {},
   "outputs": [],
   "source": [
    "dark_images = ic1.files_filtered(regex_match=True,object='dark')\n",
    "print(dark_images)"
   ]
  },
  {
   "cell_type": "markdown",
   "metadata": {},
   "source": [
    "### Checking dark current"
   ]
  },
  {
   "cell_type": "code",
   "execution_count": null,
   "metadata": {},
   "outputs": [],
   "source": [
    "# BIAS\n",
    "filename , dark_value, exposure = [], [], []\n",
    "for file in bias_images:\n",
    "    HDUList_object = fits.open(directory+file)\n",
    "    primary_HDU = HDUList_object[0]\n",
    "    image_data = primary_HDU.data\n",
    "    header = primary_HDU.header\n",
    "    filename.append(file)\n",
    "    dark_value.append(np.mean(image_data))\n",
    "    exposure.append(header['EXPTIME'])"
   ]
  },
  {
   "cell_type": "code",
   "execution_count": null,
   "metadata": {},
   "outputs": [],
   "source": [
    "# DARKS\n",
    "for file in dark_images:\n",
    "    HDUList_object = fits.open(directory+file)\n",
    "    primary_HDU = HDUList_object[0]\n",
    "    image_data = primary_HDU.data\n",
    "    header = primary_HDU.header\n",
    "    filename.append(file)\n",
    "    dark_value.append(np.mean(image_data[100:200,600:800]))\n",
    "    exposure.append(header['EXPTIME'])\n",
    "\n",
    "for i in range(len(filename)):\n",
    "    print(filename[i],round(dark_value[i],2),exposure[i])"
   ]
  },
  {
   "cell_type": "code",
   "execution_count": null,
   "metadata": {},
   "outputs": [],
   "source": [
    "fig, ax = plt.subplots(ncols=1, nrows=1, figsize=(9, 4))\n",
    "ax.plot(exposure,dark_value,'ro')\n",
    "ax.set_xlabel('texpo [s]')\n",
    "ax.set_ylabel('Mean [counts]')"
   ]
  },
  {
   "cell_type": "markdown",
   "metadata": {},
   "source": [
    "## super BIAS  \n",
    "(This is just a test. We should remove the overscan first.) "
   ]
  },
  {
   "cell_type": "code",
   "execution_count": null,
   "metadata": {},
   "outputs": [],
   "source": [
    "bias_images"
   ]
  },
  {
   "cell_type": "code",
   "execution_count": null,
   "metadata": {},
   "outputs": [],
   "source": [
    "image_bias = []\n",
    "for file in bias_images:\n",
    "    print(directory+file)\n",
    "    image = CCDData.read(directory+file, unit=\"adu\")\n",
    "    image_bias.append(image)"
   ]
  },
  {
   "cell_type": "code",
   "execution_count": null,
   "metadata": {},
   "outputs": [],
   "source": [
    "combiner = Combiner(image_bias)"
   ]
  },
  {
   "cell_type": "code",
   "execution_count": null,
   "metadata": {},
   "outputs": [],
   "source": [
    "master_BIAS = combiner.median_combine()"
   ]
  },
  {
   "cell_type": "code",
   "execution_count": null,
   "metadata": {},
   "outputs": [],
   "source": [
    "# auxiliary function to display a rectangle and compute mean value within it\n",
    "def draw_rectangle(ax, image_data, x1, x2, y1, y2, color, text=False):\n",
    "    ax.plot((x1, x1), (y1, y2), color, lw=1)\n",
    "    ax.plot((x2, x2), (y1, y2), color, lw=1)\n",
    "    ax.plot((x1, x2), (y1, y1), color, lw=1)\n",
    "    ax.plot((x1, x2), (y2, y2), color, lw=1)\n",
    "    if text:\n",
    "        media = image_data[y1:y2,x1:x2].mean()\n",
    "        std   = image_data[y1:y2,x1:x2].std()\n",
    "        ax.text((x1+x2)/2, y1+(y2-y1)/8, str(int(media)), \n",
    "                ha='center', va='center', color=color, fontsize=15)        \n",
    "        ax.text((x1+x2)/2, y2-(y2-y1)/8, str(round(std,1)), \n",
    "                ha='center', va='top', color=color, fontsize=15)\n",
    "    return media, std"
   ]
  },
  {
   "cell_type": "code",
   "execution_count": null,
   "metadata": {},
   "outputs": [],
   "source": [
    "fig, ax = plt.subplots(ncols=1, nrows=3, figsize=(14, 9))\n",
    "img = ax[0].imshow(image_bias[0], cmap='gray', origin='lower',vmin=685,vmax=700)\n",
    "ax[0].text(100,200,filename[0],color='k',fontsize=20)\n",
    "draw_rectangle(ax[0], image_bias[0].data , 400, 600, 30, 170, color='w',text=True)\n",
    "img = ax[1].imshow(image_bias[-1], cmap='gray', origin='lower',vmin=685,vmax=700)\n",
    "ax[1].text(100,200,filename[-1],color='w',fontsize=20)\n",
    "draw_rectangle(ax[1], image_bias[-1].data , 400, 600, 30, 170, color='w',text=True)\n",
    "img = ax[2].imshow(master_BIAS, cmap='gray', origin='lower',vmin=685,vmax=700)\n",
    "ax[2].text(100,200,'master_BIAS',color='w',fontsize=20)\n",
    "draw_rectangle(ax[2], master_BIAS.data , 100, 300, 30, 170, color='w',text=True)\n",
    "draw_rectangle(ax[2], master_BIAS.data , 350, 550, 30, 170, color='w',text=True)\n",
    "draw_rectangle(ax[2], master_BIAS.data , 600, 800, 30, 170, color='w',text=True)\n",
    "draw_rectangle(ax[2], master_BIAS.data , 850, 1050, 30, 170, color='w',text=True)"
   ]
  }
 ],
 "metadata": {
  "kernelspec": {
   "display_name": "Python 3",
   "language": "python",
   "name": "python3"
  },
  "language_info": {
   "codemirror_mode": {
    "name": "ipython",
    "version": 3
   },
   "file_extension": ".py",
   "mimetype": "text/x-python",
   "name": "python",
   "nbconvert_exporter": "python",
   "pygments_lexer": "ipython3",
   "version": "3.7.7"
  }
 },
 "nbformat": 4,
 "nbformat_minor": 4
}
