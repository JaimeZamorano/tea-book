{
 "cells": [
  {
   "cell_type": "markdown",
   "metadata": {},
   "source": [
    "# Example-07:   Sky Brightness evolution\n",
    "\n",
    "Using sky flats taken we determine the sky brightness evolution during the twilight."
   ]
  },
  {
   "cell_type": "markdown",
   "metadata": {},
   "source": [
    "<pre>\n",
    "Máster en Astrofísica UCM  -- Técnicas Experimentales en Astrofísica  \n",
    "Jaime Zamorano, Nicolás Cardiel and Sergio Pascual\n",
    "\n",
    "Version 1.0 2021/02/03  \n",
    "</pre>"
   ]
  },
  {
   "cell_type": "code",
   "execution_count": null,
   "metadata": {},
   "outputs": [],
   "source": [
    "from pylab import *\n",
    "import matplotlib\n",
    "import matplotlib.pyplot as plt\n",
    "import matplotlib.mlab as ml\n",
    "import numpy as np\n",
    "from mpl_toolkits.axes_grid1 import make_axes_locatable\n",
    "from astropy.io import fits\n",
    "from astropy import units as u\n",
    "from astropy.nddata import CCDData\n",
    "#import ccdproc"
   ]
  },
  {
   "cell_type": "code",
   "execution_count": null,
   "metadata": {},
   "outputs": [],
   "source": [
    "plt.style.use('./tea.mplstyle')   # Some parameters for nicer graphs"
   ]
  },
  {
   "cell_type": "markdown",
   "metadata": {},
   "source": [
    "### Working with images in a directory\n",
    "We will use the files of the first night of observations at NOT (Nordic Optical Telescope) 2008 that can be downloaded from   ftp://astrax.fis.ucm.es/pub/users/jaz/NOT_2008_04_12-14/N1/\n",
    "or \n",
    "http://guaix.fis.ucm.es/~jaz/master_TEA/observaciones_NOT_2008/N1/\n",
    "\n",
    "``directory`` should point to the working directory.  \n",
    "\n",
    "We are asumming the BIAS corrected files are located in that directory.\n"
   ]
  },
  {
   "cell_type": "code",
   "execution_count": null,
   "metadata": {},
   "outputs": [],
   "source": [
    "directory = '/Users/jzamorano/Desktop/NOT_2008/N1/2_corregidos_bias/'   # example"
   ]
  },
  {
   "cell_type": "markdown",
   "metadata": {},
   "source": [
    "The BIAS corrected files should be located in that directory.\n",
    "Let\\'s create a list containing all the FITS files in that directory.  \n",
    "We asume that the images were already trimmed and their names begin with 'zt_'"
   ]
  },
  {
   "cell_type": "code",
   "execution_count": null,
   "metadata": {},
   "outputs": [],
   "source": [
    "import os\n",
    "from glob import glob\n",
    "# os.path.join is a platform-independent way to join two directories\n",
    "globpath = os.path.join(directory, 'zt_*.fits')\n",
    "print(globpath)\n",
    "# glob searches through directories similar to the Unix shell\n",
    "filelist = sorted(glob(globpath))\n",
    "print(filelist[0:5])    # printing only from 0 to 5"
   ]
  },
  {
   "cell_type": "markdown",
   "metadata": {},
   "source": [
    "### Selecting FLATS files "
   ]
  },
  {
   "cell_type": "markdown",
   "metadata": {},
   "source": [
    "With the information in the logbook and after inspecting the files we can prepare lists os FLATS for each filter. We will use filter #76 for the example"
   ]
  },
  {
   "cell_type": "code",
   "execution_count": null,
   "metadata": {},
   "outputs": [],
   "source": [
    "FF_list_76 = ['120057' , '120058' , '120059' \n",
    "            , '120060' , '120061' , '120062']"
   ]
  },
  {
   "cell_type": "code",
   "execution_count": null,
   "metadata": {},
   "outputs": [],
   "source": [
    "for i in range(len(FF_list_76)):\n",
    "    HDUList_object = fits.open(directory+\"zt_ALrd\"+FF_list_76[i]+\".fits\")\n",
    "    primary_header = HDUList_object[0].header\n",
    "    print(primary_header['FILENAME'],primary_header['OBJECT'],primary_header['exptime']\n",
    "          ,primary_header['ALFLTID'],primary_header['FBFLTID'],primary_header['DATE-OBS'])"
   ]
  },
  {
   "cell_type": "markdown",
   "metadata": {},
   "source": [
    "### Statistics and display"
   ]
  },
  {
   "cell_type": "code",
   "execution_count": null,
   "metadata": {},
   "outputs": [],
   "source": [
    "image_flats = []\n",
    "for file in list_of_flats:\n",
    "    image_flats.append(CCDData.read(directory+file)) #, unit=\"adu\"))"
   ]
  },
  {
   "cell_type": "code",
   "execution_count": null,
   "metadata": {},
   "outputs": [],
   "source": [
    "# auxiliary function to display a rectangle and compute mean value within it\n",
    "def draw_rectangle(ax, image_data, x1, x2, y1, y2, color, text=False):\n",
    "    ax.plot((x1, x1), (y1, y2), color, lw=1)\n",
    "    ax.plot((x2, x2), (y1, y2), color, lw=1)\n",
    "    ax.plot((x1, x2), (y1, y1), color, lw=1)\n",
    "    ax.plot((x1, x2), (y2, y2), color, lw=1)\n",
    "    if text:\n",
    "        media = image_data[y1:y2,x1:x2].mean()\n",
    "        std   = image_data[y1:y2,x1:x2].std()\n",
    "        ax.text((x1+x2)/2, y1+(y2-y1)/8, str(int(media)), \n",
    "                ha='center', va='center', color=color, fontsize=12)        \n",
    "        ax.text((x1+x2)/2, y2-(y2-y1)/8, str(round(std,1)), \n",
    "                ha='center', va='top', color=color, fontsize=12)\n",
    "    return media, std"
   ]
  },
  {
   "cell_type": "code",
   "execution_count": null,
   "metadata": {},
   "outputs": [],
   "source": [
    "vmin,vmax = 20000,30000\n",
    "media , s = [],[]\n",
    "i = 0\n",
    "fig = plt.figure(figsize=(12, 12))\n",
    "for i in range(len(FF_list_76)):\n",
    "        ax = plt.subplot(3,3,i+1)\n",
    "        img = ax.imshow(image_flats_76[i], cmap='gray', origin='low',vmin=vmin,vmax=vmax)\n",
    "        #ax.set_xlabel('X axis')\n",
    "        #ax.set_ylabel('Y axis')\n",
    "        ax.set_xticks([])\n",
    "        ax.set_yticks([])\n",
    "        m,std = draw_rectangle(ax, image_flats_76[i].data, 600, 1200, 600, 1200, color='k',text=True)\n",
    "        media.append(m)\n",
    "        s.append(std)\n",
    "        ax.text(800, 50, image_flats_76[i].header['FILENAME'][7:-5], fontsize=12, color='w')\n",
    "        ax.text(400,1800,'FLAT filter 76', fontsize=12, color='y')\n",
    "        ax.text(200, 1550, image_flats_76[i].header['DATE-OBS'], fontsize=12, color='k')\n",
    "        ax.text(350, 300, 'exposure= '+ str(image_flats_76[i].header['exptime']) +'s', fontsize=12, color='k')\n",
    "        \n",
    "        divider = make_axes_locatable(ax)\n",
    "        cax = divider.append_axes(\"right\", size=\"5%\", pad=0.05)\n",
    "        fig.colorbar(img, cax=cax) #, label='Number of counts')\n",
    "        ax.grid()\n",
    "        i = i + 1"
   ]
  },
  {
   "cell_type": "code",
   "execution_count": null,
   "metadata": {},
   "outputs": [],
   "source": [
    "print(media,s)"
   ]
  },
  {
   "cell_type": "markdown",
   "metadata": {},
   "source": [
    "### Sky brightness graph"
   ]
  },
  {
   "cell_type": "code",
   "execution_count": null,
   "metadata": {},
   "outputs": [],
   "source": [
    "# date observation\n",
    "fecha , mag = [] , [] \n",
    "for i in range(len(FF_list_76)):\n",
    "    fecha_str = image_flats_76[i].header['DATE-OBS']\n",
    "    fecha.append(datetime.datetime.strptime(fecha_str, '%Y-%m-%dT%H:%M:%S'))\n",
    "    counts = np.divide(media[i],image_flats_76[i].header['exptime'])\n",
    "    log_counts = np.log10(counts)\n",
    "    magnitude = np.multiply(2.5,log_counts)\n",
    "    mag.append(magnitude)\n",
    "print(fecha)\n",
    "\n",
    "# Using first value as starting point for magnitude differences\n",
    "mag = np.subtract(mag[0],mag)"
   ]
  },
  {
   "cell_type": "code",
   "execution_count": null,
   "metadata": {},
   "outputs": [],
   "source": [
    "import matplotlib.dates as mdates\n",
    "plt.figure(figsize=(12,6))\n",
    "ax0 = plt.subplot(111)\n",
    "plt.plot(fecha,mag,'ro')\n",
    "hfmt = mdates.DateFormatter('%H:%M')\n",
    "ax0.xaxis.set_major_formatter(hfmt)\n",
    "ax0.set_xlabel('Time')\n",
    "ax0.set_ylabel('$\\Delta$m [mag/arcsec$^2$]')\n",
    "plt.grid()"
   ]
  }
 ],
 "metadata": {
  "kernelspec": {
   "display_name": "Python 3",
   "language": "python",
   "name": "python3"
  },
  "language_info": {
   "codemirror_mode": {
    "name": "ipython",
    "version": 3
   },
   "file_extension": ".py",
   "mimetype": "text/x-python",
   "name": "python",
   "nbconvert_exporter": "python",
   "pygments_lexer": "ipython3",
   "version": "3.7.7"
  }
 },
 "nbformat": 4,
 "nbformat_minor": 4
}
